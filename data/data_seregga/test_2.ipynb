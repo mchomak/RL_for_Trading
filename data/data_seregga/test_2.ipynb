{
 "cells": [
  {
   "cell_type": "code",
   "execution_count": null,
   "metadata": {},
   "outputs": [],
   "source": [
    "import pandas as pd\n",
    "import requests\n",
    "from datetime import datetime\n",
    "import logging\n",
    "import aiohttp\n",
    "import asyncio"
   ]
  },
  {
   "cell_type": "code",
   "execution_count": null,
   "metadata": {},
   "outputs": [],
   "source": [
    "tokens = {\n",
    "    \"PEPE\":\"0xa43fe16908251ee70ef74718545e4fe6c5ccec9f\",\n",
    "    \"BANANA\":\"0x43de4318b6eb91a7cf37975dbb574396a7b5b5c6\",\n",
    "    \"TRUMP\":\"0xe4b8583ccb95b25737c016ac88e539d0605949e8\",\n",
    "    \"NEIRO\":\"0xc555d55279023e732ccd32d812114caf5838fd46\",\n",
    "    \"ILV\":\"0x6a091a3406e0073c3cd6340122143009adac0eda\",\n",
    "    \"FLOKI\":\"0xca7c2771d248dcbe09eabe0ce57a62e18da178c0\",\n",
    "    \"MOG\":\"0xc2eab7d33d3cb97692ecb231a5d0e4a649cb539d\",\n",
    "    \"FET\":\"0x744159757cac173a7a3ecf5e97adb10d1a725377\",\n",
    "    \"ONDO\":\"0x7b1e5d984a43ee732de195628d20d05cfabc3cc7\",\n",
    "    \"PEPECOIN\":\"0xddd23787a6b80a794d952f5fb036d0b31a8e6aff\",\n",
    "    \"SHIB\":\"0xcf6daab95c476106eca715d48de4b13287ffdeaa\",\n",
    "    \"ATH\":\"0xd31d41dffa3589bb0c0183e46a1eed983a5e5978\",\n",
    "    \"PAAL\":\"0x2a6c340bcbb0a79d3deecd3bc5cbc2605ea9259f\",\n",
    "    \"WTAO\":\"0x2982d3295a0e1a99e6e88ece0e93ffdfc5c761ae\",\n",
    "    \"PRIME\":\"0x16588709ca8f7b84829b43cc1c5cb7e84a321b16\",\n",
    "    \"WQUIL\":\"0x43e7ade137b86798654d8e78c36d5a556a647224\",\n",
    "    \"ENA\":\"0xc3db44adc1fcdfd5671f555236eae49f4a8eea18\",\n",
    "    \"ANDY\":\"0xa1bf0e900fb272089c9fd299ea14bfccb1d1c2c0\",\n",
    "    \"NPC\":\"0x69c7bd26512f52bf6f76fab834140d13dda673ca\",\n",
    "    \"BASEDAI\":\"0x8d58e202016122aae65be55694dbce1b810b4072\",\n",
    "    \"BOBO\":\"0xe945683b3462d2603a18bdfbb19261c6a4f03ad1\",\n",
    "    \"SPX\":\"0x52c77b0cb827afbad022e6d6caf2c44452edbc39\", \n",
    "    \"APU\":\"0x5ced44f03ff443bbe14d8ea23bc24425fb89e3ed\",\n",
    "    \"PEIPEI\":\"0xbf16540c857b4e32ce6c37d2f7725c8eec869b8b\",\n",
    "    \"NEURAL\":\"0x1112956589a2bea1b038732db4ea6b0c416ef130\",\n",
    "    \"MAGA\":\"0x0c3fdf9c70835f9be9db9585ecb6a1ee3f20a6c7\",\n",
    "    \"UNI\":\"0x1d42064fc4beb5f8aaf85f4617ae8b3b5b8bd801\",\n",
    "    \"LINK\":\"0xa6cc3c2531fdaa6ae1a3ca84c2855806728693e8\",\n",
    "    \"PAXG\":\"0x9c4fe5ffd9a9fc5678cfbd93aa2d4fd684b67c4c\",\n",
    "    \"DRAGONX\":\"0x25215d9ba4403b3da77ce50606b54577a71b7895\",\n",
    "}"
   ]
  },
  {
   "cell_type": "code",
   "execution_count": null,
   "metadata": {},
   "outputs": [],
   "source": [
    "# Асинхронная функция для запроса одного URL и возвращения JSON-данных\n",
    "async def fetch_url(session, url):\n",
    "    try:\n",
    "        async with session.get(url) as response:\n",
    "            response.raise_for_status()  # Проверяем на успешность запроса (4xx, 5xx)\n",
    "            data = await response.json()  # Предполагаем, что API возвращает JSON\n",
    "            print(f\"Fetched data from {url}\")\n",
    "            return data  # Возвращаем JSON-ответ\n",
    "    except Exception as e:\n",
    "        print(f\"Failed to fetch {url}: {e}\")\n",
    "        return None  # Возвращаем None в случае ошибки\n",
    "\n",
    "\n",
    "# Функция для параллельного выполнения запросов и сбора JSON-данных\n",
    "async def fetch_all_urls(urls):\n",
    "    async with aiohttp.ClientSession() as session:\n",
    "        tasks = [fetch_url(session, url) for url in urls]\n",
    "        results = await asyncio.gather(*tasks)  # Выполняем запросы параллельно\n",
    "        return results\n",
    "\n",
    "\n",
    "# Запуск асинхронного выполнения\n",
    "async def main():\n",
    "    results = await fetch_all_urls(urls)\n",
    "\n",
    "    # Фильтруем успешные результаты (исключаем None)\n",
    "    combined_data = [result for result in results if result is not None]\n",
    "    \n",
    "    print(f\"Combined JSON data: {combined_data}\")\n",
    "    # Теперь `combined_data` содержит список JSON-ответов\n",
    "    return combined_data\n",
    "\n",
    "# Запускаем asyncio event loop\n",
    "all_data = asyncio.run(main())\n"
   ]
  }
 ],
 "metadata": {
  "language_info": {
   "name": "python"
  }
 },
 "nbformat": 4,
 "nbformat_minor": 2
}
