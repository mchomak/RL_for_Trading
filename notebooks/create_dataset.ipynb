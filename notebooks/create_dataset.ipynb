{
 "cells": [
  {
   "cell_type": "code",
   "execution_count": 1,
   "metadata": {},
   "outputs": [],
   "source": [
    "import os\n",
    "import pandas as pd\n",
    "from model_config import Path\n",
    "import plotly.graph_objects as go \n",
    "import numpy as np\n",
    "from scipy import stats\n",
    "from sklearn.preprocessing import MinMaxScaler\n",
    "from sklearn.preprocessing import StandardScaler\n",
    "from sklearn.preprocessing import RobustScaler\n",
    "import pandas_ta as ta\n",
    "from sklearn.preprocessing import LabelEncoder"
   ]
  },
  {
   "cell_type": "markdown",
   "metadata": {},
   "source": [
    "- All Fiches"
   ]
  },
  {
   "cell_type": "code",
   "execution_count": 2,
   "metadata": {},
   "outputs": [],
   "source": [
    "scaler = StandardScaler()\n",
    "timeframe = 1\n",
    "data_num = 2\n",
    "folder_path = Path[\"raw\"]"
   ]
  },
  {
   "cell_type": "code",
   "execution_count": 3,
   "metadata": {},
   "outputs": [],
   "source": [
    "if type(scaler) == type(StandardScaler()):\n",
    "    scaler_name = \"Standart\"\n",
    "    \n",
    "elif type(scaler) == type(MinMaxScaler()):\n",
    "    scaler_name = \"MinMax\"\n",
    "\n",
    "elif type(scaler) == type(RobustScaler()):\n",
    "    scaler_name = \"Robust\""
   ]
  },
  {
   "cell_type": "code",
   "execution_count": 4,
   "metadata": {},
   "outputs": [],
   "source": [
    "# Define numerical features to scale\n",
    "numerical_features = [\n",
    "                    \"Close\",\n",
    "                    'Open', 'High', 'Low', 'Average',  'Change', 'Volume', 'Volume Change',\n",
    "                    'EMA', 'SMA',  'MACD', 'BB_upper', 'BB_middle', 'BB_lower'\n",
    "                      ]"
   ]
  },
  {
   "cell_type": "code",
   "execution_count": 5,
   "metadata": {},
   "outputs": [],
   "source": [
    "csv_files = [f for f in os.listdir(folder_path) if f.endswith('.csv')]\n",
    "dataframes = []"
   ]
  },
  {
   "cell_type": "code",
   "execution_count": 6,
   "metadata": {},
   "outputs": [
    {
     "data": {
      "text/html": [
       "<div>\n",
       "<style scoped>\n",
       "    .dataframe tbody tr th:only-of-type {\n",
       "        vertical-align: middle;\n",
       "    }\n",
       "\n",
       "    .dataframe tbody tr th {\n",
       "        vertical-align: top;\n",
       "    }\n",
       "\n",
       "    .dataframe thead th {\n",
       "        text-align: right;\n",
       "    }\n",
       "</style>\n",
       "<table border=\"1\" class=\"dataframe\">\n",
       "  <thead>\n",
       "    <tr style=\"text-align: right;\">\n",
       "      <th></th>\n",
       "      <th>Date</th>\n",
       "      <th>Open</th>\n",
       "      <th>High</th>\n",
       "      <th>Low</th>\n",
       "      <th>Average</th>\n",
       "      <th>Close</th>\n",
       "      <th>Change</th>\n",
       "      <th>Volume</th>\n",
       "      <th>Volume Change</th>\n",
       "      <th>Asset_ID</th>\n",
       "    </tr>\n",
       "  </thead>\n",
       "  <tbody>\n",
       "    <tr>\n",
       "      <th>0</th>\n",
       "      <td>2024-04-20 04:00</td>\n",
       "      <td>0.267168</td>\n",
       "      <td>0.270103</td>\n",
       "      <td>0.266700</td>\n",
       "      <td>0.268401</td>\n",
       "      <td>0.270103</td>\n",
       "      <td>1.098558</td>\n",
       "      <td>22209.569331</td>\n",
       "      <td>-11.194502</td>\n",
       "      <td>0X0</td>\n",
       "    </tr>\n",
       "    <tr>\n",
       "      <th>1</th>\n",
       "      <td>2024-04-20 05:00</td>\n",
       "      <td>0.270103</td>\n",
       "      <td>0.270957</td>\n",
       "      <td>0.268974</td>\n",
       "      <td>0.269965</td>\n",
       "      <td>0.270877</td>\n",
       "      <td>0.286480</td>\n",
       "      <td>4846.973710</td>\n",
       "      <td>-78.176192</td>\n",
       "      <td>0X0</td>\n",
       "    </tr>\n",
       "    <tr>\n",
       "      <th>2</th>\n",
       "      <td>2024-04-20 06:00</td>\n",
       "      <td>0.270877</td>\n",
       "      <td>0.271038</td>\n",
       "      <td>0.269079</td>\n",
       "      <td>0.270058</td>\n",
       "      <td>0.270706</td>\n",
       "      <td>-0.063166</td>\n",
       "      <td>5100.507938</td>\n",
       "      <td>5.230774</td>\n",
       "      <td>0X0</td>\n",
       "    </tr>\n",
       "    <tr>\n",
       "      <th>3</th>\n",
       "      <td>2024-04-20 07:00</td>\n",
       "      <td>0.270706</td>\n",
       "      <td>0.271651</td>\n",
       "      <td>0.269340</td>\n",
       "      <td>0.270495</td>\n",
       "      <td>0.271651</td>\n",
       "      <td>0.349155</td>\n",
       "      <td>3040.306921</td>\n",
       "      <td>-40.392075</td>\n",
       "      <td>0X0</td>\n",
       "    </tr>\n",
       "    <tr>\n",
       "      <th>4</th>\n",
       "      <td>2024-04-20 08:00</td>\n",
       "      <td>0.271651</td>\n",
       "      <td>0.271870</td>\n",
       "      <td>0.271651</td>\n",
       "      <td>0.271760</td>\n",
       "      <td>0.271870</td>\n",
       "      <td>0.080565</td>\n",
       "      <td>420.500479</td>\n",
       "      <td>-86.169144</td>\n",
       "      <td>0X0</td>\n",
       "    </tr>\n",
       "  </tbody>\n",
       "</table>\n",
       "</div>"
      ],
      "text/plain": [
       "               Date      Open      High       Low   Average     Close  \\\n",
       "0  2024-04-20 04:00  0.267168  0.270103  0.266700  0.268401  0.270103   \n",
       "1  2024-04-20 05:00  0.270103  0.270957  0.268974  0.269965  0.270877   \n",
       "2  2024-04-20 06:00  0.270877  0.271038  0.269079  0.270058  0.270706   \n",
       "3  2024-04-20 07:00  0.270706  0.271651  0.269340  0.270495  0.271651   \n",
       "4  2024-04-20 08:00  0.271651  0.271870  0.271651  0.271760  0.271870   \n",
       "\n",
       "     Change        Volume  Volume Change Asset_ID  \n",
       "0  1.098558  22209.569331     -11.194502      0X0  \n",
       "1  0.286480   4846.973710     -78.176192      0X0  \n",
       "2 -0.063166   5100.507938       5.230774      0X0  \n",
       "3  0.349155   3040.306921     -40.392075      0X0  \n",
       "4  0.080565    420.500479     -86.169144      0X0  "
      ]
     },
     "execution_count": 6,
     "metadata": {},
     "output_type": "execute_result"
    }
   ],
   "source": [
    "# Loop through each CSV file in the folder\n",
    "for csv_file in csv_files:\n",
    "    # Construct full file path\n",
    "    file_path = os.path.join(folder_path, csv_file)\n",
    "    \n",
    "    # Read the CSV file into a DataFrame\n",
    "    df = pd.read_csv(file_path)\n",
    "\n",
    "    df = df.iloc[1:].reset_index(drop=True)\n",
    "    \n",
    "    # Extract the Asset_ID from the file name (assuming file name is the Asset_ID)\n",
    "    asset_id = os.path.splitext(csv_file)[0].split(\"_\")[0]  # Removes the '.csv' extension\n",
    "    \n",
    "    # Add the Asset_ID column to the DataFrame\n",
    "    df['Asset_ID'] = asset_id\n",
    "    \n",
    "    # Append the DataFrame to the list\n",
    "    dataframes.append(df)\n",
    "\n",
    "# Concatenate all DataFrames into one\n",
    "combined_df = pd.concat(dataframes, ignore_index=True)\n",
    "\n",
    "# Display the combined DataFrame\n",
    "combined_df.head()"
   ]
  },
  {
   "cell_type": "code",
   "execution_count": 7,
   "metadata": {},
   "outputs": [
    {
     "name": "stderr",
     "output_type": "stream",
     "text": [
      "C:\\Users\\McHomak\\AppData\\Local\\Temp\\ipykernel_22976\\3639975876.py:2: FutureWarning: DataFrame.fillna with 'method' is deprecated and will raise in a future version. Use obj.ffill() or obj.bfill() instead.\n",
      "  combined_df.fillna(method='ffill', inplace=True)\n",
      "C:\\Users\\McHomak\\AppData\\Local\\Temp\\ipykernel_22976\\3639975876.py:3: FutureWarning: DataFrame.fillna with 'method' is deprecated and will raise in a future version. Use obj.ffill() or obj.bfill() instead.\n",
      "  combined_df.fillna(method='bfill', inplace=True)\n"
     ]
    }
   ],
   "source": [
    "# Обработка пропущенных значений\n",
    "combined_df.fillna(method='ffill', inplace=True)\n",
    "combined_df.fillna(method='bfill', inplace=True)"
   ]
  },
  {
   "cell_type": "code",
   "execution_count": 8,
   "metadata": {},
   "outputs": [
    {
     "name": "stdout",
     "output_type": "stream",
     "text": [
      "<class 'pandas.core.frame.DataFrame'>\n",
      "RangeIndex: 197915 entries, 0 to 197914\n",
      "Data columns (total 10 columns):\n",
      " #   Column         Non-Null Count   Dtype  \n",
      "---  ------         --------------   -----  \n",
      " 0   Date           197915 non-null  object \n",
      " 1   Open           197915 non-null  float64\n",
      " 2   High           197915 non-null  float64\n",
      " 3   Low            197915 non-null  float64\n",
      " 4   Average        197915 non-null  float64\n",
      " 5   Close          197915 non-null  float64\n",
      " 6   Change         197915 non-null  float64\n",
      " 7   Volume         197915 non-null  float64\n",
      " 8   Volume Change  197915 non-null  float64\n",
      " 9   Asset_ID       197915 non-null  object \n",
      "dtypes: float64(8), object(2)\n",
      "memory usage: 15.1+ MB\n"
     ]
    }
   ],
   "source": [
    "combined_df.info()"
   ]
  },
  {
   "cell_type": "code",
   "execution_count": 9,
   "metadata": {},
   "outputs": [],
   "source": [
    "combined_df['Date'] = pd.to_datetime(combined_df['Date'])\n",
    "combined_df.sort_values(by=['Asset_ID', 'Date'], inplace=True)\n",
    "combined_df.reset_index(drop=True, inplace=True)"
   ]
  },
  {
   "cell_type": "code",
   "execution_count": 10,
   "metadata": {},
   "outputs": [],
   "source": [
    "combined_df = combined_df.groupby('Asset_ID', group_keys=False)"
   ]
  },
  {
   "cell_type": "code",
   "execution_count": 11,
   "metadata": {},
   "outputs": [
    {
     "name": "stderr",
     "output_type": "stream",
     "text": [
      "C:\\Users\\McHomak\\AppData\\Local\\Temp\\ipykernel_22976\\1048405128.py:12: DeprecationWarning: DataFrameGroupBy.apply operated on the grouping columns. This behavior is deprecated, and in a future version of pandas the grouping columns will be excluded from the operation. Either pass `include_groups=False` to exclude the groupings or explicitly select the grouping columns after groupby to silence this warning.\n",
      "  combined_df = combined_df.apply(add_technical_indicators)\n",
      "C:\\Users\\McHomak\\AppData\\Local\\Temp\\ipykernel_22976\\1048405128.py:13: FutureWarning: DataFrame.fillna with 'method' is deprecated and will raise in a future version. Use obj.ffill() or obj.bfill() instead.\n",
      "  combined_df.fillna(method='bfill', inplace=True)\n"
     ]
    }
   ],
   "source": [
    "def add_technical_indicators(group):\n",
    "    group['EMA'] = ta.ema(group['Close'], length=14)\n",
    "    group['SMA'] = ta.sma(group['Close'], length=14)\n",
    "    group['RSI'] = ta.rsi(group['Close'], length=14)\n",
    "    group['MACD'] = ta.macd(group['Close'])['MACD_12_26_9']\n",
    "    bbands = ta.bbands(group['Close'], length=20)\n",
    "    group['BB_upper'] = bbands['BBU_20_2.0']\n",
    "    group['BB_middle'] = bbands['BBM_20_2.0']\n",
    "    group['BB_lower'] = bbands['BBL_20_2.0']\n",
    "    return group\n",
    "\n",
    "combined_df = combined_df.apply(add_technical_indicators)\n",
    "combined_df.fillna(method='bfill', inplace=True)"
   ]
  },
  {
   "cell_type": "code",
   "execution_count": 12,
   "metadata": {},
   "outputs": [],
   "source": [
    "combined_df['Hour'] = combined_df['Date'].dt.hour\n",
    "combined_df['Day'] = combined_df['Date'].dt.dayofweek  # 0 = Monday\n",
    "combined_df['Month'] = combined_df['Date'].dt.month\n",
    "\n",
    "combined_df['Hour_sin'] = np.sin(2 * np.pi * combined_df['Hour']/24)\n",
    "combined_df['Hour_cos'] = np.cos(2 * np.pi * combined_df['Hour']/24)\n",
    "\n",
    "combined_df['Day_sin'] = np.sin(2 * np.pi * combined_df['Day']/7)\n",
    "combined_df['Day_cos'] = np.cos(2 * np.pi * combined_df['Day']/7)\n",
    "\n",
    "combined_df['Month_sin'] = np.sin(2 * np.pi * combined_df['Month']/12)\n",
    "combined_df['Month_cos'] = np.cos(2 * np.pi * combined_df['Month']/12)"
   ]
  },
  {
   "cell_type": "code",
   "execution_count": 13,
   "metadata": {},
   "outputs": [],
   "source": [
    "label_encoder = LabelEncoder()\n",
    "combined_df['Asset_ID_encoded'] = label_encoder.fit_transform(combined_df['Asset_ID'])"
   ]
  },
  {
   "cell_type": "code",
   "execution_count": 14,
   "metadata": {},
   "outputs": [
    {
     "name": "stderr",
     "output_type": "stream",
     "text": [
      "C:\\Users\\McHomak\\AppData\\Local\\Temp\\ipykernel_22976\\4205974642.py:1: DeprecationWarning: DataFrameGroupBy.apply operated on the grouping columns. This behavior is deprecated, and in a future version of pandas the grouping columns will be excluded from the operation. Either pass `include_groups=False` to exclude the groupings or explicitly select the grouping columns after groupby to silence this warning.\n",
      "  combined_df = combined_df.groupby('Asset_ID_encoded').apply(lambda x: x.iloc[48:]).reset_index(drop= True)\n"
     ]
    }
   ],
   "source": [
    "combined_df = combined_df.groupby('Asset_ID_encoded').apply(lambda x: x.iloc[48:]).reset_index(drop= True)"
   ]
  },
  {
   "cell_type": "code",
   "execution_count": 15,
   "metadata": {},
   "outputs": [
    {
     "name": "stdout",
     "output_type": "stream",
     "text": [
      "{0: '0X0', 1: 'AAVE', 2: 'AMPL', 3: 'ANDY', 4: 'APU', 5: 'ATH', 6: 'BANANA', 7: 'BASEDAI', 8: 'BOBO', 9: 'DEAI', 10: 'DRAGONX', 11: 'EIGEN', 12: 'ENA', 13: 'ENS', 14: 'FET', 15: 'FIGHT', 16: 'FLOKI', 17: 'GME', 18: 'HOPPY', 19: 'ILV', 20: 'JESUS', 21: 'JOE', 22: 'KENDU', 23: 'LDO', 24: 'LINK', 25: 'MAGA', 26: 'MOG', 27: 'NEIRO', 28: 'NEURAL', 29: 'NPC', 30: 'ONDO', 31: 'PAAL', 32: 'PAXG', 33: 'PEIPEI', 34: 'PENDLE', 35: 'PEPE', 36: 'PEPECOIN', 37: 'PRIME', 38: 'SHFL', 39: 'SHIB', 40: 'SMURFCAT', 41: 'SUPER', 42: 'TITANX', 43: 'TRUMP', 44: 'UNI', 45: 'WLD', 46: 'WOJAK', 47: 'WOLF', 48: 'WQUIL', 49: 'WTAO', 50: 'ZYN'}\n"
     ]
    }
   ],
   "source": [
    "encoded_labels = combined_df['Asset_ID_encoded'].unique()\n",
    "label_mapping = {encoded: original for encoded, original in zip(encoded_labels, label_encoder.inverse_transform(encoded_labels))}\n",
    "print(label_mapping)"
   ]
  },
  {
   "cell_type": "code",
   "execution_count": 16,
   "metadata": {},
   "outputs": [],
   "source": [
    "combined_df[\"Close_orig\"] = combined_df[\"Close\"]"
   ]
  },
  {
   "cell_type": "code",
   "execution_count": 17,
   "metadata": {},
   "outputs": [],
   "source": [
    "def scale_data(df, scaler):\n",
    "    if scaler in [\"log\"]:\n",
    "        def scale_group(group):\n",
    "            # Применяем логарифмическую трансформацию к числовым признакам\n",
    "            group[numerical_features] = np.log(group[numerical_features] + 1e-6)  # Добавляем небольшое значение для избежания логарифма от 0\n",
    "            return group\n",
    "    else:\n",
    "        def scale_group(group):\n",
    "            group[numerical_features] = scaler.fit_transform(group[numerical_features])\n",
    "            return group  \n",
    "\n",
    "    df = df.groupby('Asset_ID', group_keys=False).apply(scale_group).reset_index(drop=True)\n",
    "    return df"
   ]
  },
  {
   "cell_type": "code",
   "execution_count": 18,
   "metadata": {},
   "outputs": [
    {
     "name": "stderr",
     "output_type": "stream",
     "text": [
      "C:\\Users\\McHomak\\AppData\\Local\\Temp\\ipykernel_22976\\2103416537.py:12: DeprecationWarning: DataFrameGroupBy.apply operated on the grouping columns. This behavior is deprecated, and in a future version of pandas the grouping columns will be excluded from the operation. Either pass `include_groups=False` to exclude the groupings or explicitly select the grouping columns after groupby to silence this warning.\n",
      "  df = df.groupby('Asset_ID', group_keys=False).apply(scale_group).reset_index(drop=True)\n"
     ]
    }
   ],
   "source": [
    "combined_df = scale_data(df = combined_df, scaler= scaler)"
   ]
  },
  {
   "cell_type": "code",
   "execution_count": 19,
   "metadata": {},
   "outputs": [],
   "source": [
    "# Функция для замены нулей на среднее\n",
    "def replace_zeros_with_mean(df, columns):\n",
    "    for column in columns:\n",
    "        df[column].replace(0, np.nan, inplace=True)\n",
    "        df[column].interpolate(method='linear', inplace=True)\n",
    "        df[column].fillna(method='bfill', inplace=True)\n",
    "        df[column].fillna(method='ffill', inplace=True)\n",
    "    return df\n",
    "\n",
    "# Задаем столбцы, в которых нужно заменить нули\n",
    "columns_to_replace = [ \n",
    "                      \"Close_orig\",   \n",
    "                      \"Close\", 'Open', 'High', 'Low', 'Average',  'Change', 'Volume', 'Volume Change',\n",
    "                      'EMA', 'SMA', 'RSI', 'MACD', 'BB_upper', 'BB_middle', 'BB_lower'\n",
    "                      ]"
   ]
  },
  {
   "cell_type": "code",
   "execution_count": 20,
   "metadata": {},
   "outputs": [
    {
     "name": "stderr",
     "output_type": "stream",
     "text": [
      "C:\\Users\\McHomak\\AppData\\Local\\Temp\\ipykernel_22976\\4021808225.py:4: FutureWarning: A value is trying to be set on a copy of a DataFrame or Series through chained assignment using an inplace method.\n",
      "The behavior will change in pandas 3.0. This inplace method will never work because the intermediate object on which we are setting values always behaves as a copy.\n",
      "\n",
      "For example, when doing 'df[col].method(value, inplace=True)', try using 'df.method({col: value}, inplace=True)' or df[col] = df[col].method(value) instead, to perform the operation inplace on the original object.\n",
      "\n",
      "\n",
      "  df[column].replace(0, np.nan, inplace=True)\n",
      "C:\\Users\\McHomak\\AppData\\Local\\Temp\\ipykernel_22976\\4021808225.py:5: FutureWarning: A value is trying to be set on a copy of a DataFrame or Series through chained assignment using an inplace method.\n",
      "The behavior will change in pandas 3.0. This inplace method will never work because the intermediate object on which we are setting values always behaves as a copy.\n",
      "\n",
      "For example, when doing 'df[col].method(value, inplace=True)', try using 'df.method({col: value}, inplace=True)' or df[col] = df[col].method(value) instead, to perform the operation inplace on the original object.\n",
      "\n",
      "\n",
      "  df[column].interpolate(method='linear', inplace=True)\n",
      "C:\\Users\\McHomak\\AppData\\Local\\Temp\\ipykernel_22976\\4021808225.py:6: FutureWarning: A value is trying to be set on a copy of a DataFrame or Series through chained assignment using an inplace method.\n",
      "The behavior will change in pandas 3.0. This inplace method will never work because the intermediate object on which we are setting values always behaves as a copy.\n",
      "\n",
      "For example, when doing 'df[col].method(value, inplace=True)', try using 'df.method({col: value}, inplace=True)' or df[col] = df[col].method(value) instead, to perform the operation inplace on the original object.\n",
      "\n",
      "\n",
      "  df[column].fillna(method='bfill', inplace=True)\n",
      "C:\\Users\\McHomak\\AppData\\Local\\Temp\\ipykernel_22976\\4021808225.py:6: FutureWarning: Series.fillna with 'method' is deprecated and will raise in a future version. Use obj.ffill() or obj.bfill() instead.\n",
      "  df[column].fillna(method='bfill', inplace=True)\n",
      "C:\\Users\\McHomak\\AppData\\Local\\Temp\\ipykernel_22976\\4021808225.py:7: FutureWarning: A value is trying to be set on a copy of a DataFrame or Series through chained assignment using an inplace method.\n",
      "The behavior will change in pandas 3.0. This inplace method will never work because the intermediate object on which we are setting values always behaves as a copy.\n",
      "\n",
      "For example, when doing 'df[col].method(value, inplace=True)', try using 'df.method({col: value}, inplace=True)' or df[col] = df[col].method(value) instead, to perform the operation inplace on the original object.\n",
      "\n",
      "\n",
      "  df[column].fillna(method='ffill', inplace=True)\n",
      "C:\\Users\\McHomak\\AppData\\Local\\Temp\\ipykernel_22976\\4021808225.py:7: FutureWarning: Series.fillna with 'method' is deprecated and will raise in a future version. Use obj.ffill() or obj.bfill() instead.\n",
      "  df[column].fillna(method='ffill', inplace=True)\n",
      "C:\\Users\\McHomak\\AppData\\Local\\Temp\\ipykernel_22976\\1569776400.py:2: DeprecationWarning: DataFrameGroupBy.apply operated on the grouping columns. This behavior is deprecated, and in a future version of pandas the grouping columns will be excluded from the operation. Either pass `include_groups=False` to exclude the groupings or explicitly select the grouping columns after groupby to silence this warning.\n",
      "  combined_df = combined_df.groupby('Asset_ID', group_keys=False).apply(lambda group: replace_zeros_with_mean(group, columns_to_replace)).reset_index(drop=True)\n"
     ]
    }
   ],
   "source": [
    "# Замена нулевых значений на средние с интерполяцией для каждого Asset_ID\n",
    "combined_df = combined_df.groupby('Asset_ID', group_keys=False).apply(lambda group: replace_zeros_with_mean(group, columns_to_replace)).reset_index(drop=True)"
   ]
  },
  {
   "cell_type": "code",
   "execution_count": 21,
   "metadata": {},
   "outputs": [
    {
     "name": "stdout",
     "output_type": "stream",
     "text": [
      "Number of zero 'Close' prices after scaling: 0\n"
     ]
    }
   ],
   "source": [
    "zero_close_prices = combined_df[combined_df['Close'] == 0]\n",
    "print(f\"Number of zero 'Close' prices after scaling: {len(zero_close_prices)}\")"
   ]
  },
  {
   "cell_type": "code",
   "execution_count": 22,
   "metadata": {},
   "outputs": [],
   "source": [
    "combined_df.sort_values(by=['Asset_ID', 'Date'], inplace=True)\n",
    "combined_df.drop(columns= [\"Asset_ID\", 'Date'], axis=1, inplace=True)"
   ]
  },
  {
   "cell_type": "markdown",
   "metadata": {},
   "source": [
    "1) scaler\n",
    "2) columns cnt\n",
    "3) tokens cnt\n",
    "4) timeframe"
   ]
  },
  {
   "cell_type": "code",
   "execution_count": 23,
   "metadata": {},
   "outputs": [],
   "source": [
    "columns_cnt = combined_df.shape[1]\n",
    "tokens_cnt = len(combined_df['Asset_ID_encoded'].unique())"
   ]
  },
  {
   "cell_type": "code",
   "execution_count": 24,
   "metadata": {},
   "outputs": [
    {
     "name": "stdout",
     "output_type": "stream",
     "text": [
      "File saved to d:\\PythonScripts\\RL_for_Trading\\data\\processed\\dataset_2D_Standart_26cols_51tkn_1t.csv\n"
     ]
    }
   ],
   "source": [
    "combined_df.to_csv(Path[\"dataset\"](data_num, scaler_name, columns_cnt, tokens_cnt, timeframe), index= False)\n",
    "print(f\"File saved to {Path['dataset'](data_num, scaler_name, columns_cnt, tokens_cnt, timeframe)}\")"
   ]
  },
  {
   "cell_type": "code",
   "execution_count": 25,
   "metadata": {},
   "outputs": [],
   "source": [
    "df = pd.read_csv(Path[\"dataset\"](data_num, scaler_name, columns_cnt, tokens_cnt, timeframe))"
   ]
  },
  {
   "cell_type": "code",
   "execution_count": 26,
   "metadata": {},
   "outputs": [
    {
     "data": {
      "text/plain": [
       "Index(['Open', 'High', 'Low', 'Average', 'Close', 'Change', 'Volume',\n",
       "       'Volume Change', 'EMA', 'SMA', 'RSI', 'MACD', 'BB_upper', 'BB_middle',\n",
       "       'BB_lower', 'Hour', 'Day', 'Month', 'Hour_sin', 'Hour_cos', 'Day_sin',\n",
       "       'Day_cos', 'Month_sin', 'Month_cos', 'Asset_ID_encoded', 'Close_orig'],\n",
       "      dtype='object')"
      ]
     },
     "execution_count": 26,
     "metadata": {},
     "output_type": "execute_result"
    }
   ],
   "source": [
    "df.columns"
   ]
  },
  {
   "cell_type": "code",
   "execution_count": 27,
   "metadata": {},
   "outputs": [],
   "source": [
    "# Функция для вычисления разницы цен для одного актива\n",
    "def calculate_price_differences(asset_data):\n",
    "    asset_data = asset_data.sort_values('Date')  # Сортируем по дате\n",
    "    \n",
    "    # Начальная и конечная цена\n",
    "    start_price = asset_data['Close_orig'].iloc[0]\n",
    "    end_price = asset_data['Close_orig'].iloc[-1]\n",
    "    \n",
    "    # Абсолютная и относительная разница между начальной и конечной ценой\n",
    "    abs_diff_start_end = end_price - start_price\n",
    "    rel_diff_start_end = (end_price - start_price) / start_price * 100\n",
    "    \n",
    "    # Максимальная и минимальная цена\n",
    "    max_price = asset_data['Close_orig'].max()\n",
    "    min_price = asset_data['Close_orig'].min()\n",
    "    \n",
    "    # Абсолютная и относительная разница между максимальной и минимальной ценой\n",
    "    abs_diff_max_min = max_price - min_price\n",
    "    rel_diff_max_min = (max_price - min_price) / min_price * 100\n",
    "    \n",
    "    return pd.Series({\n",
    "        'start_price': start_price,\n",
    "        'end_price': end_price,\n",
    "        'abs_diff_start_end': abs_diff_start_end,\n",
    "        'rel_diff_start_end': rel_diff_start_end,\n",
    "        'max_price': max_price,\n",
    "        'min_price': min_price,\n",
    "        'abs_diff_max_min': abs_diff_max_min,\n",
    "        'rel_diff_max_min': rel_diff_max_min\n",
    "    })"
   ]
  },
  {
   "cell_type": "code",
   "execution_count": 28,
   "metadata": {},
   "outputs": [],
   "source": [
    "# result = df.groupby('Asset_ID_encoded').apply(calculate_price_differences).reset_index()\n",
    "# columns_to_round = ['abs_diff_start_end', 'rel_diff_start_end', 'abs_diff_max_min', 'rel_diff_max_min']\n",
    "# result[columns_to_round] = result[columns_to_round].round(3)\n",
    "# result.head()"
   ]
  }
 ],
 "metadata": {
  "kernelspec": {
   "display_name": ".venv",
   "language": "python",
   "name": "python3"
  },
  "language_info": {
   "codemirror_mode": {
    "name": "ipython",
    "version": 3
   },
   "file_extension": ".py",
   "mimetype": "text/x-python",
   "name": "python",
   "nbconvert_exporter": "python",
   "pygments_lexer": "ipython3",
   "version": "3.11.0"
  }
 },
 "nbformat": 4,
 "nbformat_minor": 2
}
