{
 "cells": [
  {
   "cell_type": "code",
   "execution_count": 1,
   "metadata": {},
   "outputs": [],
   "source": [
    "import os\n",
    "import pandas as pd\n",
    "from model_config import Path\n",
    "import plotly.graph_objects as go \n",
    "import numpy as np\n",
    "from scipy import stats\n",
    "from sklearn.preprocessing import MinMaxScaler\n",
    "from sklearn.preprocessing import StandardScaler\n",
    "from sklearn.preprocessing import RobustScaler\n",
    "import pandas_ta as ta\n",
    "from sklearn.preprocessing import LabelEncoder"
   ]
  },
  {
   "cell_type": "markdown",
   "metadata": {},
   "source": [
    "- All Fiches"
   ]
  },
  {
   "cell_type": "code",
   "execution_count": 2,
   "metadata": {},
   "outputs": [],
   "source": [
    "scaler = StandardScaler()\n",
    "timeframe = 1\n",
    "data_num = 2\n",
    "folder_path = Path[\"raw\"]"
   ]
  },
  {
   "cell_type": "code",
   "execution_count": 3,
   "metadata": {},
   "outputs": [],
   "source": [
    "if type(scaler) == type(StandardScaler()):\n",
    "    scaler_name = \"Standart\"\n",
    "    \n",
    "elif type(scaler) == type(MinMaxScaler()):\n",
    "    scaler_name = \"MinMax\"\n",
    "\n",
    "elif type(scaler) == type(RobustScaler()):\n",
    "    scaler_name = \"Robust\""
   ]
  },
  {
   "cell_type": "code",
   "execution_count": 4,
   "metadata": {},
   "outputs": [],
   "source": [
    "# Define numerical features to scale\n",
    "numerical_features = [\n",
    "                    \"Close\",\n",
    "                    'Open', 'High', 'Low', 'Average',  'Change', 'Volume', 'Volume Change',\n",
    "                    'EMA', 'SMA',  'MACD', 'BB_upper', 'BB_middle', 'BB_lower'\n",
    "                      ]"
   ]
  },
  {
   "cell_type": "code",
   "execution_count": 5,
   "metadata": {},
   "outputs": [],
   "source": [
    "csv_files = [f for f in os.listdir(folder_path) if f.endswith('.csv')]\n",
    "dataframes = []"
   ]
  },
  {
   "cell_type": "code",
   "execution_count": 6,
   "metadata": {},
   "outputs": [
    {
     "data": {
      "text/html": [
       "<div>\n",
       "<style scoped>\n",
       "    .dataframe tbody tr th:only-of-type {\n",
       "        vertical-align: middle;\n",
       "    }\n",
       "\n",
       "    .dataframe tbody tr th {\n",
       "        vertical-align: top;\n",
       "    }\n",
       "\n",
       "    .dataframe thead th {\n",
       "        text-align: right;\n",
       "    }\n",
       "</style>\n",
       "<table border=\"1\" class=\"dataframe\">\n",
       "  <thead>\n",
       "    <tr style=\"text-align: right;\">\n",
       "      <th></th>\n",
       "      <th>Date</th>\n",
       "      <th>Open</th>\n",
       "      <th>High</th>\n",
       "      <th>Low</th>\n",
       "      <th>Average</th>\n",
       "      <th>Close</th>\n",
       "      <th>Change</th>\n",
       "      <th>Volume</th>\n",
       "      <th>Volume Change</th>\n",
       "      <th>Asset_ID</th>\n",
       "    </tr>\n",
       "  </thead>\n",
       "  <tbody>\n",
       "    <tr>\n",
       "      <th>0</th>\n",
       "      <td>2024-04-19 01:00</td>\n",
       "      <td>0.301924</td>\n",
       "      <td>0.302382</td>\n",
       "      <td>0.261243</td>\n",
       "      <td>0.281812</td>\n",
       "      <td>0.262358</td>\n",
       "      <td>-13.104433</td>\n",
       "      <td>371056.241944</td>\n",
       "      <td>314.931863</td>\n",
       "      <td>0X0</td>\n",
       "    </tr>\n",
       "    <tr>\n",
       "      <th>1</th>\n",
       "      <td>2024-04-19 02:00</td>\n",
       "      <td>0.262358</td>\n",
       "      <td>0.262358</td>\n",
       "      <td>0.252427</td>\n",
       "      <td>0.257393</td>\n",
       "      <td>0.262112</td>\n",
       "      <td>-0.093785</td>\n",
       "      <td>97423.566673</td>\n",
       "      <td>-73.744259</td>\n",
       "      <td>0X0</td>\n",
       "    </tr>\n",
       "    <tr>\n",
       "      <th>2</th>\n",
       "      <td>2024-04-19 03:00</td>\n",
       "      <td>0.262112</td>\n",
       "      <td>0.271497</td>\n",
       "      <td>0.262112</td>\n",
       "      <td>0.266805</td>\n",
       "      <td>0.271271</td>\n",
       "      <td>3.494298</td>\n",
       "      <td>60339.402422</td>\n",
       "      <td>-38.064881</td>\n",
       "      <td>0X0</td>\n",
       "    </tr>\n",
       "    <tr>\n",
       "      <th>3</th>\n",
       "      <td>2024-04-19 04:00</td>\n",
       "      <td>0.271271</td>\n",
       "      <td>0.274212</td>\n",
       "      <td>0.269591</td>\n",
       "      <td>0.271901</td>\n",
       "      <td>0.273477</td>\n",
       "      <td>0.813199</td>\n",
       "      <td>19518.916957</td>\n",
       "      <td>-67.651458</td>\n",
       "      <td>0X0</td>\n",
       "    </tr>\n",
       "    <tr>\n",
       "      <th>4</th>\n",
       "      <td>2024-04-19 05:00</td>\n",
       "      <td>0.273477</td>\n",
       "      <td>0.273579</td>\n",
       "      <td>0.270513</td>\n",
       "      <td>0.272046</td>\n",
       "      <td>0.273391</td>\n",
       "      <td>-0.031504</td>\n",
       "      <td>13479.960935</td>\n",
       "      <td>-30.938991</td>\n",
       "      <td>0X0</td>\n",
       "    </tr>\n",
       "  </tbody>\n",
       "</table>\n",
       "</div>"
      ],
      "text/plain": [
       "               Date      Open      High       Low   Average     Close  \\\n",
       "0  2024-04-19 01:00  0.301924  0.302382  0.261243  0.281812  0.262358   \n",
       "1  2024-04-19 02:00  0.262358  0.262358  0.252427  0.257393  0.262112   \n",
       "2  2024-04-19 03:00  0.262112  0.271497  0.262112  0.266805  0.271271   \n",
       "3  2024-04-19 04:00  0.271271  0.274212  0.269591  0.271901  0.273477   \n",
       "4  2024-04-19 05:00  0.273477  0.273579  0.270513  0.272046  0.273391   \n",
       "\n",
       "      Change         Volume  Volume Change Asset_ID  \n",
       "0 -13.104433  371056.241944     314.931863      0X0  \n",
       "1  -0.093785   97423.566673     -73.744259      0X0  \n",
       "2   3.494298   60339.402422     -38.064881      0X0  \n",
       "3   0.813199   19518.916957     -67.651458      0X0  \n",
       "4  -0.031504   13479.960935     -30.938991      0X0  "
      ]
     },
     "execution_count": 6,
     "metadata": {},
     "output_type": "execute_result"
    }
   ],
   "source": [
    "# Loop through each CSV file in the folder\n",
    "for csv_file in csv_files:\n",
    "    # Construct full file path\n",
    "    file_path = os.path.join(folder_path, csv_file)\n",
    "    \n",
    "    # Read the CSV file into a DataFrame\n",
    "    df = pd.read_csv(file_path)\n",
    "\n",
    "    df = df.iloc[1:].reset_index(drop=True)\n",
    "    \n",
    "    # Extract the Asset_ID from the file name (assuming file name is the Asset_ID)\n",
    "    asset_id = os.path.splitext(csv_file)[0].split(\"_\")[0]  # Removes the '.csv' extension\n",
    "    \n",
    "    # Add the Asset_ID column to the DataFrame\n",
    "    df['Asset_ID'] = asset_id\n",
    "    \n",
    "    # Append the DataFrame to the list\n",
    "    dataframes.append(df)\n",
    "\n",
    "# Concatenate all DataFrames into one\n",
    "combined_df = pd.concat(dataframes, ignore_index=True)\n",
    "\n",
    "# Display the combined DataFrame\n",
    "combined_df.head()"
   ]
  },
  {
   "cell_type": "code",
   "execution_count": 7,
   "metadata": {},
   "outputs": [
    {
     "name": "stderr",
     "output_type": "stream",
     "text": [
      "C:\\Users\\McHomak\\AppData\\Local\\Temp\\ipykernel_24524\\3639975876.py:2: FutureWarning: DataFrame.fillna with 'method' is deprecated and will raise in a future version. Use obj.ffill() or obj.bfill() instead.\n",
      "  combined_df.fillna(method='ffill', inplace=True)\n",
      "C:\\Users\\McHomak\\AppData\\Local\\Temp\\ipykernel_24524\\3639975876.py:3: FutureWarning: DataFrame.fillna with 'method' is deprecated and will raise in a future version. Use obj.ffill() or obj.bfill() instead.\n",
      "  combined_df.fillna(method='bfill', inplace=True)\n"
     ]
    }
   ],
   "source": [
    "# Обработка пропущенных значений\n",
    "combined_df.fillna(method='ffill', inplace=True)\n",
    "combined_df.fillna(method='bfill', inplace=True)"
   ]
  },
  {
   "cell_type": "code",
   "execution_count": 8,
   "metadata": {},
   "outputs": [
    {
     "name": "stdout",
     "output_type": "stream",
     "text": [
      "<class 'pandas.core.frame.DataFrame'>\n",
      "RangeIndex: 199387 entries, 0 to 199386\n",
      "Data columns (total 10 columns):\n",
      " #   Column         Non-Null Count   Dtype  \n",
      "---  ------         --------------   -----  \n",
      " 0   Date           199387 non-null  object \n",
      " 1   Open           199387 non-null  float64\n",
      " 2   High           199387 non-null  float64\n",
      " 3   Low            199387 non-null  float64\n",
      " 4   Average        199387 non-null  float64\n",
      " 5   Close          199387 non-null  float64\n",
      " 6   Change         199387 non-null  float64\n",
      " 7   Volume         199387 non-null  float64\n",
      " 8   Volume Change  199387 non-null  float64\n",
      " 9   Asset_ID       199387 non-null  object \n",
      "dtypes: float64(8), object(2)\n",
      "memory usage: 15.2+ MB\n"
     ]
    }
   ],
   "source": [
    "combined_df.info()"
   ]
  },
  {
   "cell_type": "code",
   "execution_count": 9,
   "metadata": {},
   "outputs": [],
   "source": [
    "combined_df['Date'] = pd.to_datetime(combined_df['Date'])\n",
    "combined_df.sort_values(by=['Asset_ID', 'Date'], inplace=True)\n",
    "combined_df.reset_index(drop=True, inplace=True)"
   ]
  },
  {
   "cell_type": "code",
   "execution_count": 10,
   "metadata": {},
   "outputs": [],
   "source": [
    "combined_df = combined_df.groupby('Asset_ID', group_keys=False)"
   ]
  },
  {
   "cell_type": "code",
   "execution_count": 11,
   "metadata": {},
   "outputs": [
    {
     "name": "stderr",
     "output_type": "stream",
     "text": [
      "C:\\Users\\McHomak\\AppData\\Local\\Temp\\ipykernel_24524\\1048405128.py:12: DeprecationWarning: DataFrameGroupBy.apply operated on the grouping columns. This behavior is deprecated, and in a future version of pandas the grouping columns will be excluded from the operation. Either pass `include_groups=False` to exclude the groupings or explicitly select the grouping columns after groupby to silence this warning.\n",
      "  combined_df = combined_df.apply(add_technical_indicators)\n",
      "C:\\Users\\McHomak\\AppData\\Local\\Temp\\ipykernel_24524\\1048405128.py:13: FutureWarning: DataFrame.fillna with 'method' is deprecated and will raise in a future version. Use obj.ffill() or obj.bfill() instead.\n",
      "  combined_df.fillna(method='bfill', inplace=True)\n"
     ]
    }
   ],
   "source": [
    "def add_technical_indicators(group):\n",
    "    group['EMA'] = ta.ema(group['Close'], length=14)\n",
    "    group['SMA'] = ta.sma(group['Close'], length=14)\n",
    "    group['RSI'] = ta.rsi(group['Close'], length=14)\n",
    "    group['MACD'] = ta.macd(group['Close'])['MACD_12_26_9']\n",
    "    bbands = ta.bbands(group['Close'], length=20)\n",
    "    group['BB_upper'] = bbands['BBU_20_2.0']\n",
    "    group['BB_middle'] = bbands['BBM_20_2.0']\n",
    "    group['BB_lower'] = bbands['BBL_20_2.0']\n",
    "    return group\n",
    "\n",
    "combined_df = combined_df.apply(add_technical_indicators)\n",
    "combined_df.fillna(method='bfill', inplace=True)"
   ]
  },
  {
   "cell_type": "code",
   "execution_count": 12,
   "metadata": {},
   "outputs": [],
   "source": [
    "combined_df['Hour'] = combined_df['Date'].dt.hour\n",
    "combined_df['Day'] = combined_df['Date'].dt.dayofweek  # 0 = Monday\n",
    "combined_df['Month'] = combined_df['Date'].dt.month\n",
    "\n",
    "combined_df['Hour_sin'] = np.sin(2 * np.pi * combined_df['Hour']/24)\n",
    "combined_df['Hour_cos'] = np.cos(2 * np.pi * combined_df['Hour']/24)\n",
    "\n",
    "combined_df['Day_sin'] = np.sin(2 * np.pi * combined_df['Day']/7)\n",
    "combined_df['Day_cos'] = np.cos(2 * np.pi * combined_df['Day']/7)\n",
    "\n",
    "combined_df['Month_sin'] = np.sin(2 * np.pi * combined_df['Month']/12)\n",
    "combined_df['Month_cos'] = np.cos(2 * np.pi * combined_df['Month']/12)"
   ]
  },
  {
   "cell_type": "code",
   "execution_count": 13,
   "metadata": {},
   "outputs": [],
   "source": [
    "label_encoder = LabelEncoder()\n",
    "combined_df['Asset_ID_encoded'] = label_encoder.fit_transform(combined_df['Asset_ID'])"
   ]
  },
  {
   "cell_type": "code",
   "execution_count": 14,
   "metadata": {},
   "outputs": [
    {
     "name": "stderr",
     "output_type": "stream",
     "text": [
      "C:\\Users\\McHomak\\AppData\\Local\\Temp\\ipykernel_24524\\4205974642.py:1: DeprecationWarning: DataFrameGroupBy.apply operated on the grouping columns. This behavior is deprecated, and in a future version of pandas the grouping columns will be excluded from the operation. Either pass `include_groups=False` to exclude the groupings or explicitly select the grouping columns after groupby to silence this warning.\n",
      "  combined_df = combined_df.groupby('Asset_ID_encoded').apply(lambda x: x.iloc[48:]).reset_index(drop= True)\n"
     ]
    }
   ],
   "source": [
    "combined_df = combined_df.groupby('Asset_ID_encoded').apply(lambda x: x.iloc[48:]).reset_index(drop= True)"
   ]
  },
  {
   "cell_type": "code",
   "execution_count": 15,
   "metadata": {},
   "outputs": [
    {
     "name": "stdout",
     "output_type": "stream",
     "text": [
      "{0: '0X0', 1: 'AAVE', 2: 'AMPL', 3: 'ANDY', 4: 'APU', 5: 'ATH', 6: 'BANANA', 7: 'BASEDAI', 8: 'BOBO', 9: 'DEAI', 10: 'DRAGONX', 11: 'EIGEN', 12: 'ENA', 13: 'ENS', 14: 'FET', 15: 'FIGHT', 16: 'FLOKI', 17: 'GME', 18: 'HOPPY', 19: 'ILV', 20: 'JESUS', 21: 'JOE', 22: 'KENDU', 23: 'LDO', 24: 'LINK', 25: 'MAGA', 26: 'MOG', 27: 'NEIRO', 28: 'NEURAL', 29: 'NPC', 30: 'ONDO', 31: 'PAAL', 32: 'PAXG', 33: 'PEIPEI', 34: 'PENDLE', 35: 'PEPE', 36: 'PEPECOIN', 37: 'PRIME', 38: 'SHFL', 39: 'SHIB', 40: 'SMURFCAT', 41: 'SUPER', 42: 'TITANX', 43: 'TRUMP', 44: 'UNI', 45: 'WLD', 46: 'WOJAK', 47: 'WOLF', 48: 'WQUIL', 49: 'WTAO', 50: 'ZYN'}\n"
     ]
    }
   ],
   "source": [
    "encoded_labels = combined_df['Asset_ID_encoded'].unique()\n",
    "label_mapping = {encoded: original for encoded, original in zip(encoded_labels, label_encoder.inverse_transform(encoded_labels))}\n",
    "print(label_mapping)"
   ]
  },
  {
   "cell_type": "code",
   "execution_count": 16,
   "metadata": {},
   "outputs": [],
   "source": [
    "combined_df[\"Close_orig\"] = combined_df[\"Close\"]"
   ]
  },
  {
   "cell_type": "code",
   "execution_count": 17,
   "metadata": {},
   "outputs": [],
   "source": [
    "def scale_data(df, scaler):\n",
    "    if scaler in [\"log\"]:\n",
    "        def scale_group(group):\n",
    "            # Применяем логарифмическую трансформацию к числовым признакам\n",
    "            group[numerical_features] = np.log(group[numerical_features] + 1e-6)  # Добавляем небольшое значение для избежания логарифма от 0\n",
    "            return group\n",
    "    else:\n",
    "        def scale_group(group):\n",
    "            group[numerical_features] = scaler.fit_transform(group[numerical_features])\n",
    "            return group  \n",
    "\n",
    "    df = df.groupby('Asset_ID', group_keys=False).apply(scale_group).reset_index(drop=True)\n",
    "    return df"
   ]
  },
  {
   "cell_type": "code",
   "execution_count": 18,
   "metadata": {},
   "outputs": [
    {
     "name": "stderr",
     "output_type": "stream",
     "text": [
      "C:\\Users\\McHomak\\AppData\\Local\\Temp\\ipykernel_24524\\2103416537.py:12: DeprecationWarning: DataFrameGroupBy.apply operated on the grouping columns. This behavior is deprecated, and in a future version of pandas the grouping columns will be excluded from the operation. Either pass `include_groups=False` to exclude the groupings or explicitly select the grouping columns after groupby to silence this warning.\n",
      "  df = df.groupby('Asset_ID', group_keys=False).apply(scale_group).reset_index(drop=True)\n"
     ]
    }
   ],
   "source": [
    "combined_df = scale_data(df = combined_df, scaler= scaler)"
   ]
  },
  {
   "cell_type": "code",
   "execution_count": 19,
   "metadata": {},
   "outputs": [],
   "source": [
    "# Функция для замены нулей на среднее\n",
    "def replace_zeros_with_mean(df, columns):\n",
    "    for column in columns:\n",
    "        df[column].replace(0, np.nan, inplace=True)\n",
    "        df[column].interpolate(method='linear', inplace=True)\n",
    "        df[column].fillna(method='bfill', inplace=True)\n",
    "        df[column].fillna(method='ffill', inplace=True)\n",
    "    return df\n",
    "\n",
    "# Задаем столбцы, в которых нужно заменить нули\n",
    "columns_to_replace = [ \n",
    "                      \"Close_orig\",   \n",
    "                      \"Close\", 'Open', 'High', 'Low', 'Average',  'Change', 'Volume', 'Volume Change',\n",
    "                      'EMA', 'SMA', 'RSI', 'MACD', 'BB_upper', 'BB_middle', 'BB_lower'\n",
    "                      ]"
   ]
  },
  {
   "cell_type": "code",
   "execution_count": 20,
   "metadata": {},
   "outputs": [
    {
     "name": "stderr",
     "output_type": "stream",
     "text": [
      "C:\\Users\\McHomak\\AppData\\Local\\Temp\\ipykernel_24524\\4021808225.py:4: FutureWarning: A value is trying to be set on a copy of a DataFrame or Series through chained assignment using an inplace method.\n",
      "The behavior will change in pandas 3.0. This inplace method will never work because the intermediate object on which we are setting values always behaves as a copy.\n",
      "\n",
      "For example, when doing 'df[col].method(value, inplace=True)', try using 'df.method({col: value}, inplace=True)' or df[col] = df[col].method(value) instead, to perform the operation inplace on the original object.\n",
      "\n",
      "\n",
      "  df[column].replace(0, np.nan, inplace=True)\n",
      "C:\\Users\\McHomak\\AppData\\Local\\Temp\\ipykernel_24524\\4021808225.py:5: FutureWarning: A value is trying to be set on a copy of a DataFrame or Series through chained assignment using an inplace method.\n",
      "The behavior will change in pandas 3.0. This inplace method will never work because the intermediate object on which we are setting values always behaves as a copy.\n",
      "\n",
      "For example, when doing 'df[col].method(value, inplace=True)', try using 'df.method({col: value}, inplace=True)' or df[col] = df[col].method(value) instead, to perform the operation inplace on the original object.\n",
      "\n",
      "\n",
      "  df[column].interpolate(method='linear', inplace=True)\n",
      "C:\\Users\\McHomak\\AppData\\Local\\Temp\\ipykernel_24524\\4021808225.py:6: FutureWarning: A value is trying to be set on a copy of a DataFrame or Series through chained assignment using an inplace method.\n",
      "The behavior will change in pandas 3.0. This inplace method will never work because the intermediate object on which we are setting values always behaves as a copy.\n",
      "\n",
      "For example, when doing 'df[col].method(value, inplace=True)', try using 'df.method({col: value}, inplace=True)' or df[col] = df[col].method(value) instead, to perform the operation inplace on the original object.\n",
      "\n",
      "\n",
      "  df[column].fillna(method='bfill', inplace=True)\n",
      "C:\\Users\\McHomak\\AppData\\Local\\Temp\\ipykernel_24524\\4021808225.py:6: FutureWarning: Series.fillna with 'method' is deprecated and will raise in a future version. Use obj.ffill() or obj.bfill() instead.\n",
      "  df[column].fillna(method='bfill', inplace=True)\n",
      "C:\\Users\\McHomak\\AppData\\Local\\Temp\\ipykernel_24524\\4021808225.py:7: FutureWarning: A value is trying to be set on a copy of a DataFrame or Series through chained assignment using an inplace method.\n",
      "The behavior will change in pandas 3.0. This inplace method will never work because the intermediate object on which we are setting values always behaves as a copy.\n",
      "\n",
      "For example, when doing 'df[col].method(value, inplace=True)', try using 'df.method({col: value}, inplace=True)' or df[col] = df[col].method(value) instead, to perform the operation inplace on the original object.\n",
      "\n",
      "\n",
      "  df[column].fillna(method='ffill', inplace=True)\n",
      "C:\\Users\\McHomak\\AppData\\Local\\Temp\\ipykernel_24524\\4021808225.py:7: FutureWarning: Series.fillna with 'method' is deprecated and will raise in a future version. Use obj.ffill() or obj.bfill() instead.\n",
      "  df[column].fillna(method='ffill', inplace=True)\n",
      "C:\\Users\\McHomak\\AppData\\Local\\Temp\\ipykernel_24524\\1569776400.py:2: DeprecationWarning: DataFrameGroupBy.apply operated on the grouping columns. This behavior is deprecated, and in a future version of pandas the grouping columns will be excluded from the operation. Either pass `include_groups=False` to exclude the groupings or explicitly select the grouping columns after groupby to silence this warning.\n",
      "  combined_df = combined_df.groupby('Asset_ID', group_keys=False).apply(lambda group: replace_zeros_with_mean(group, columns_to_replace)).reset_index(drop=True)\n"
     ]
    }
   ],
   "source": [
    "# Замена нулевых значений на средние с интерполяцией для каждого Asset_ID\n",
    "combined_df = combined_df.groupby('Asset_ID', group_keys=False).apply(lambda group: replace_zeros_with_mean(group, columns_to_replace)).reset_index(drop=True)"
   ]
  },
  {
   "cell_type": "code",
   "execution_count": 21,
   "metadata": {},
   "outputs": [
    {
     "name": "stdout",
     "output_type": "stream",
     "text": [
      "Number of zero 'Close' prices after scaling: 0\n"
     ]
    }
   ],
   "source": [
    "zero_close_prices = combined_df[combined_df['Close'] == 0]\n",
    "print(f\"Number of zero 'Close' prices after scaling: {len(zero_close_prices)}\")"
   ]
  },
  {
   "cell_type": "code",
   "execution_count": 22,
   "metadata": {},
   "outputs": [],
   "source": [
    "combined_df.sort_values(by=['Asset_ID', 'Date'], inplace=True)\n",
    "combined_df.drop(columns= [\"Asset_ID\", 'Date'], axis=1, inplace=True)"
   ]
  },
  {
   "cell_type": "markdown",
   "metadata": {},
   "source": [
    "1) scaler\n",
    "2) columns cnt\n",
    "3) tokens cnt\n",
    "4) timeframe"
   ]
  },
  {
   "cell_type": "code",
   "execution_count": 23,
   "metadata": {},
   "outputs": [],
   "source": [
    "columns_cnt = combined_df.shape[1]\n",
    "tokens_cnt = len(combined_df['Asset_ID_encoded'].unique())"
   ]
  },
  {
   "cell_type": "code",
   "execution_count": 24,
   "metadata": {},
   "outputs": [
    {
     "name": "stdout",
     "output_type": "stream",
     "text": [
      "File saved to d:\\PythonScripts\\RL_for_Trading\\data\\processed\\dataset_2D_Standart_26cols_51tkn_1t.csv\n"
     ]
    }
   ],
   "source": [
    "combined_df.to_csv(Path[\"dataset\"](data_num, scaler_name, columns_cnt, tokens_cnt, timeframe), index= False)\n",
    "print(f\"File saved to {Path['dataset'](data_num, scaler_name, columns_cnt, tokens_cnt, timeframe)}\")"
   ]
  },
  {
   "cell_type": "code",
   "execution_count": 25,
   "metadata": {},
   "outputs": [],
   "source": [
    "df = pd.read_csv(Path[\"dataset\"](data_num, scaler_name, columns_cnt, tokens_cnt, timeframe))"
   ]
  },
  {
   "cell_type": "code",
   "execution_count": 26,
   "metadata": {},
   "outputs": [
    {
     "data": {
      "text/plain": [
       "Index(['Open', 'High', 'Low', 'Average', 'Close', 'Change', 'Volume',\n",
       "       'Volume Change', 'EMA', 'SMA', 'RSI', 'MACD', 'BB_upper', 'BB_middle',\n",
       "       'BB_lower', 'Hour', 'Day', 'Month', 'Hour_sin', 'Hour_cos', 'Day_sin',\n",
       "       'Day_cos', 'Month_sin', 'Month_cos', 'Asset_ID_encoded', 'Close_orig'],\n",
       "      dtype='object')"
      ]
     },
     "execution_count": 26,
     "metadata": {},
     "output_type": "execute_result"
    }
   ],
   "source": [
    "df.columns"
   ]
  },
  {
   "cell_type": "code",
   "execution_count": 27,
   "metadata": {},
   "outputs": [],
   "source": [
    "# Функция для вычисления разницы цен для одного актива\n",
    "def calculate_price_differences(asset_data):\n",
    "    asset_data = asset_data.sort_values('Date')  # Сортируем по дате\n",
    "    \n",
    "    # Начальная и конечная цена\n",
    "    start_price = asset_data['Close_orig'].iloc[0]\n",
    "    end_price = asset_data['Close_orig'].iloc[-1]\n",
    "    \n",
    "    # Абсолютная и относительная разница между начальной и конечной ценой\n",
    "    abs_diff_start_end = end_price - start_price\n",
    "    rel_diff_start_end = (end_price - start_price) / start_price * 100\n",
    "    \n",
    "    # Максимальная и минимальная цена\n",
    "    max_price = asset_data['Close_orig'].max()\n",
    "    min_price = asset_data['Close_orig'].min()\n",
    "    \n",
    "    # Абсолютная и относительная разница между максимальной и минимальной ценой\n",
    "    abs_diff_max_min = max_price - min_price\n",
    "    rel_diff_max_min = (max_price - min_price) / min_price * 100\n",
    "    \n",
    "    return pd.Series({\n",
    "        'start_price': start_price,\n",
    "        'end_price': end_price,\n",
    "        'abs_diff_start_end': abs_diff_start_end,\n",
    "        'rel_diff_start_end': rel_diff_start_end,\n",
    "        'max_price': max_price,\n",
    "        'min_price': min_price,\n",
    "        'abs_diff_max_min': abs_diff_max_min,\n",
    "        'rel_diff_max_min': rel_diff_max_min\n",
    "    })"
   ]
  },
  {
   "cell_type": "code",
   "execution_count": 28,
   "metadata": {},
   "outputs": [
    {
     "ename": "KeyError",
     "evalue": "'Date'",
     "output_type": "error",
     "traceback": [
      "\u001b[1;31m---------------------------------------------------------------------------\u001b[0m",
      "\u001b[1;31mKeyError\u001b[0m                                  Traceback (most recent call last)",
      "\u001b[1;32m~\\AppData\\Local\\Temp\\ipykernel_24524\\6728204.py\u001b[0m in \u001b[0;36m?\u001b[1;34m()\u001b[0m\n\u001b[1;32m----> 1\u001b[1;33m \u001b[0mresult\u001b[0m \u001b[1;33m=\u001b[0m \u001b[0mdf\u001b[0m\u001b[1;33m.\u001b[0m\u001b[0mgroupby\u001b[0m\u001b[1;33m(\u001b[0m\u001b[1;34m'Asset_ID_encoded'\u001b[0m\u001b[1;33m)\u001b[0m\u001b[1;33m.\u001b[0m\u001b[0mapply\u001b[0m\u001b[1;33m(\u001b[0m\u001b[0mcalculate_price_differences\u001b[0m\u001b[1;33m)\u001b[0m\u001b[1;33m.\u001b[0m\u001b[0mreset_index\u001b[0m\u001b[1;33m(\u001b[0m\u001b[1;33m)\u001b[0m\u001b[1;33m\u001b[0m\u001b[1;33m\u001b[0m\u001b[0m\n\u001b[0m\u001b[0;32m      2\u001b[0m \u001b[0mcolumns_to_round\u001b[0m \u001b[1;33m=\u001b[0m \u001b[1;33m[\u001b[0m\u001b[1;34m'abs_diff_start_end'\u001b[0m\u001b[1;33m,\u001b[0m \u001b[1;34m'rel_diff_start_end'\u001b[0m\u001b[1;33m,\u001b[0m \u001b[1;34m'abs_diff_max_min'\u001b[0m\u001b[1;33m,\u001b[0m \u001b[1;34m'rel_diff_max_min'\u001b[0m\u001b[1;33m]\u001b[0m\u001b[1;33m\u001b[0m\u001b[1;33m\u001b[0m\u001b[0m\n\u001b[0;32m      3\u001b[0m \u001b[0mresult\u001b[0m\u001b[1;33m[\u001b[0m\u001b[0mcolumns_to_round\u001b[0m\u001b[1;33m]\u001b[0m \u001b[1;33m=\u001b[0m \u001b[0mresult\u001b[0m\u001b[1;33m[\u001b[0m\u001b[0mcolumns_to_round\u001b[0m\u001b[1;33m]\u001b[0m\u001b[1;33m.\u001b[0m\u001b[0mround\u001b[0m\u001b[1;33m(\u001b[0m\u001b[1;36m3\u001b[0m\u001b[1;33m)\u001b[0m\u001b[1;33m\u001b[0m\u001b[1;33m\u001b[0m\u001b[0m\n\u001b[0;32m      4\u001b[0m \u001b[0mresult\u001b[0m\u001b[1;33m.\u001b[0m\u001b[0mhead\u001b[0m\u001b[1;33m(\u001b[0m\u001b[1;33m)\u001b[0m\u001b[1;33m\u001b[0m\u001b[1;33m\u001b[0m\u001b[0m\n",
      "\u001b[1;32md:\\PythonScripts\\RL_for_Trading\\.venv\\Lib\\site-packages\\pandas\\core\\groupby\\groupby.py\u001b[0m in \u001b[0;36m?\u001b[1;34m(self, func, include_groups, *args, **kwargs)\u001b[0m\n\u001b[0;32m   1833\u001b[0m                         ),\n\u001b[0;32m   1834\u001b[0m                         \u001b[0mcategory\u001b[0m\u001b[1;33m=\u001b[0m\u001b[0mDeprecationWarning\u001b[0m\u001b[1;33m,\u001b[0m\u001b[1;33m\u001b[0m\u001b[1;33m\u001b[0m\u001b[0m\n\u001b[0;32m   1835\u001b[0m                         \u001b[0mstacklevel\u001b[0m\u001b[1;33m=\u001b[0m\u001b[0mfind_stack_level\u001b[0m\u001b[1;33m(\u001b[0m\u001b[1;33m)\u001b[0m\u001b[1;33m,\u001b[0m\u001b[1;33m\u001b[0m\u001b[1;33m\u001b[0m\u001b[0m\n\u001b[0;32m   1836\u001b[0m                     )\n\u001b[1;32m-> 1837\u001b[1;33m             \u001b[1;32mexcept\u001b[0m \u001b[0mTypeError\u001b[0m\u001b[1;33m:\u001b[0m\u001b[1;33m\u001b[0m\u001b[1;33m\u001b[0m\u001b[0m\n\u001b[0m\u001b[0;32m   1838\u001b[0m                 \u001b[1;31m# gh-20949\u001b[0m\u001b[1;33m\u001b[0m\u001b[1;33m\u001b[0m\u001b[0m\n\u001b[0;32m   1839\u001b[0m                 \u001b[1;31m# try again, with .apply acting as a filtering\u001b[0m\u001b[1;33m\u001b[0m\u001b[1;33m\u001b[0m\u001b[0m\n\u001b[0;32m   1840\u001b[0m                 \u001b[1;31m# operation, by excluding the grouping column\u001b[0m\u001b[1;33m\u001b[0m\u001b[1;33m\u001b[0m\u001b[0m\n",
      "\u001b[1;32md:\\PythonScripts\\RL_for_Trading\\.venv\\Lib\\site-packages\\pandas\\core\\groupby\\groupby.py\u001b[0m in \u001b[0;36m?\u001b[1;34m(self, f, data, not_indexed_same, is_transform, is_agg)\u001b[0m\n\u001b[0;32m   1881\u001b[0m         \u001b[1;33m-\u001b[0m\u001b[1;33m-\u001b[0m\u001b[1;33m-\u001b[0m\u001b[1;33m-\u001b[0m\u001b[1;33m-\u001b[0m\u001b[1;33m-\u001b[0m\u001b[1;33m-\u001b[0m\u001b[1;33m\u001b[0m\u001b[1;33m\u001b[0m\u001b[0m\n\u001b[0;32m   1882\u001b[0m         \u001b[0mSeries\u001b[0m \u001b[1;32mor\u001b[0m \u001b[0mDataFrame\u001b[0m\u001b[1;33m\u001b[0m\u001b[1;33m\u001b[0m\u001b[0m\n\u001b[0;32m   1883\u001b[0m             \u001b[0mdata\u001b[0m \u001b[0mafter\u001b[0m \u001b[0mapplying\u001b[0m \u001b[0mf\u001b[0m\u001b[1;33m\u001b[0m\u001b[1;33m\u001b[0m\u001b[0m\n\u001b[0;32m   1884\u001b[0m         \"\"\"\n\u001b[1;32m-> 1885\u001b[1;33m         \u001b[0mvalues\u001b[0m\u001b[1;33m,\u001b[0m \u001b[0mmutated\u001b[0m \u001b[1;33m=\u001b[0m \u001b[0mself\u001b[0m\u001b[1;33m.\u001b[0m\u001b[0m_grouper\u001b[0m\u001b[1;33m.\u001b[0m\u001b[0mapply_groupwise\u001b[0m\u001b[1;33m(\u001b[0m\u001b[0mf\u001b[0m\u001b[1;33m,\u001b[0m \u001b[0mdata\u001b[0m\u001b[1;33m,\u001b[0m \u001b[0mself\u001b[0m\u001b[1;33m.\u001b[0m\u001b[0maxis\u001b[0m\u001b[1;33m)\u001b[0m\u001b[1;33m\u001b[0m\u001b[1;33m\u001b[0m\u001b[0m\n\u001b[0m\u001b[0;32m   1886\u001b[0m         \u001b[1;32mif\u001b[0m \u001b[0mnot_indexed_same\u001b[0m \u001b[1;32mis\u001b[0m \u001b[1;32mNone\u001b[0m\u001b[1;33m:\u001b[0m\u001b[1;33m\u001b[0m\u001b[1;33m\u001b[0m\u001b[0m\n\u001b[0;32m   1887\u001b[0m             \u001b[0mnot_indexed_same\u001b[0m \u001b[1;33m=\u001b[0m \u001b[0mmutated\u001b[0m\u001b[1;33m\u001b[0m\u001b[1;33m\u001b[0m\u001b[0m\n\u001b[0;32m   1888\u001b[0m \u001b[1;33m\u001b[0m\u001b[0m\n",
      "\u001b[1;32md:\\PythonScripts\\RL_for_Trading\\.venv\\Lib\\site-packages\\pandas\\core\\groupby\\ops.py\u001b[0m in \u001b[0;36m?\u001b[1;34m(self, f, data, axis)\u001b[0m\n\u001b[0;32m    915\u001b[0m             \u001b[0mobject\u001b[0m\u001b[1;33m.\u001b[0m\u001b[0m__setattr__\u001b[0m\u001b[1;33m(\u001b[0m\u001b[0mgroup\u001b[0m\u001b[1;33m,\u001b[0m \u001b[1;34m\"name\"\u001b[0m\u001b[1;33m,\u001b[0m \u001b[0mkey\u001b[0m\u001b[1;33m)\u001b[0m\u001b[1;33m\u001b[0m\u001b[1;33m\u001b[0m\u001b[0m\n\u001b[0;32m    916\u001b[0m \u001b[1;33m\u001b[0m\u001b[0m\n\u001b[0;32m    917\u001b[0m             \u001b[1;31m# group might be modified\u001b[0m\u001b[1;33m\u001b[0m\u001b[1;33m\u001b[0m\u001b[0m\n\u001b[0;32m    918\u001b[0m             \u001b[0mgroup_axes\u001b[0m \u001b[1;33m=\u001b[0m \u001b[0mgroup\u001b[0m\u001b[1;33m.\u001b[0m\u001b[0maxes\u001b[0m\u001b[1;33m\u001b[0m\u001b[1;33m\u001b[0m\u001b[0m\n\u001b[1;32m--> 919\u001b[1;33m             \u001b[0mres\u001b[0m \u001b[1;33m=\u001b[0m \u001b[0mf\u001b[0m\u001b[1;33m(\u001b[0m\u001b[0mgroup\u001b[0m\u001b[1;33m)\u001b[0m\u001b[1;33m\u001b[0m\u001b[1;33m\u001b[0m\u001b[0m\n\u001b[0m\u001b[0;32m    920\u001b[0m             \u001b[1;32mif\u001b[0m \u001b[1;32mnot\u001b[0m \u001b[0mmutated\u001b[0m \u001b[1;32mand\u001b[0m \u001b[1;32mnot\u001b[0m \u001b[0m_is_indexed_like\u001b[0m\u001b[1;33m(\u001b[0m\u001b[0mres\u001b[0m\u001b[1;33m,\u001b[0m \u001b[0mgroup_axes\u001b[0m\u001b[1;33m,\u001b[0m \u001b[0maxis\u001b[0m\u001b[1;33m)\u001b[0m\u001b[1;33m:\u001b[0m\u001b[1;33m\u001b[0m\u001b[1;33m\u001b[0m\u001b[0m\n\u001b[0;32m    921\u001b[0m                 \u001b[0mmutated\u001b[0m \u001b[1;33m=\u001b[0m \u001b[1;32mTrue\u001b[0m\u001b[1;33m\u001b[0m\u001b[1;33m\u001b[0m\u001b[0m\n\u001b[0;32m    922\u001b[0m             \u001b[0mresult_values\u001b[0m\u001b[1;33m.\u001b[0m\u001b[0mappend\u001b[0m\u001b[1;33m(\u001b[0m\u001b[0mres\u001b[0m\u001b[1;33m)\u001b[0m\u001b[1;33m\u001b[0m\u001b[1;33m\u001b[0m\u001b[0m\n",
      "\u001b[1;32m~\\AppData\\Local\\Temp\\ipykernel_24524\\1703642857.py\u001b[0m in \u001b[0;36m?\u001b[1;34m(asset_data)\u001b[0m\n\u001b[0;32m      2\u001b[0m \u001b[1;32mdef\u001b[0m \u001b[0mcalculate_price_differences\u001b[0m\u001b[1;33m(\u001b[0m\u001b[0masset_data\u001b[0m\u001b[1;33m)\u001b[0m\u001b[1;33m:\u001b[0m\u001b[1;33m\u001b[0m\u001b[1;33m\u001b[0m\u001b[0m\n\u001b[1;32m----> 3\u001b[1;33m     \u001b[0masset_data\u001b[0m \u001b[1;33m=\u001b[0m \u001b[0masset_data\u001b[0m\u001b[1;33m.\u001b[0m\u001b[0msort_values\u001b[0m\u001b[1;33m(\u001b[0m\u001b[1;34m'Date'\u001b[0m\u001b[1;33m)\u001b[0m  \u001b[1;31m# Сортируем по дате\u001b[0m\u001b[1;33m\u001b[0m\u001b[1;33m\u001b[0m\u001b[0m\n\u001b[0m\u001b[0;32m      4\u001b[0m \u001b[1;33m\u001b[0m\u001b[0m\n\u001b[0;32m      5\u001b[0m     \u001b[1;31m# Начальная и конечная цена\u001b[0m\u001b[1;33m\u001b[0m\u001b[1;33m\u001b[0m\u001b[0m\n\u001b[0;32m      6\u001b[0m     \u001b[0mstart_price\u001b[0m \u001b[1;33m=\u001b[0m \u001b[0masset_data\u001b[0m\u001b[1;33m[\u001b[0m\u001b[1;34m'Close_orig'\u001b[0m\u001b[1;33m]\u001b[0m\u001b[1;33m.\u001b[0m\u001b[0miloc\u001b[0m\u001b[1;33m[\u001b[0m\u001b[1;36m0\u001b[0m\u001b[1;33m]\u001b[0m\u001b[1;33m\u001b[0m\u001b[1;33m\u001b[0m\u001b[0m\n",
      "\u001b[1;32md:\\PythonScripts\\RL_for_Trading\\.venv\\Lib\\site-packages\\pandas\\core\\frame.py\u001b[0m in \u001b[0;36m?\u001b[1;34m(self, by, axis, ascending, inplace, kind, na_position, ignore_index, key)\u001b[0m\n\u001b[0;32m   7185\u001b[0m             )\n\u001b[0;32m   7186\u001b[0m         \u001b[1;32melif\u001b[0m \u001b[0mlen\u001b[0m\u001b[1;33m(\u001b[0m\u001b[0mby\u001b[0m\u001b[1;33m)\u001b[0m\u001b[1;33m:\u001b[0m\u001b[1;33m\u001b[0m\u001b[1;33m\u001b[0m\u001b[0m\n\u001b[0;32m   7187\u001b[0m             \u001b[1;31m# len(by) == 1\u001b[0m\u001b[1;33m\u001b[0m\u001b[1;33m\u001b[0m\u001b[0m\n\u001b[0;32m   7188\u001b[0m \u001b[1;33m\u001b[0m\u001b[0m\n\u001b[1;32m-> 7189\u001b[1;33m             \u001b[0mk\u001b[0m \u001b[1;33m=\u001b[0m \u001b[0mself\u001b[0m\u001b[1;33m.\u001b[0m\u001b[0m_get_label_or_level_values\u001b[0m\u001b[1;33m(\u001b[0m\u001b[0mby\u001b[0m\u001b[1;33m[\u001b[0m\u001b[1;36m0\u001b[0m\u001b[1;33m]\u001b[0m\u001b[1;33m,\u001b[0m \u001b[0maxis\u001b[0m\u001b[1;33m=\u001b[0m\u001b[0maxis\u001b[0m\u001b[1;33m)\u001b[0m\u001b[1;33m\u001b[0m\u001b[1;33m\u001b[0m\u001b[0m\n\u001b[0m\u001b[0;32m   7190\u001b[0m \u001b[1;33m\u001b[0m\u001b[0m\n\u001b[0;32m   7191\u001b[0m             \u001b[1;31m# need to rewrap column in Series to apply key function\u001b[0m\u001b[1;33m\u001b[0m\u001b[1;33m\u001b[0m\u001b[0m\n\u001b[0;32m   7192\u001b[0m             \u001b[1;32mif\u001b[0m \u001b[0mkey\u001b[0m \u001b[1;32mis\u001b[0m \u001b[1;32mnot\u001b[0m \u001b[1;32mNone\u001b[0m\u001b[1;33m:\u001b[0m\u001b[1;33m\u001b[0m\u001b[1;33m\u001b[0m\u001b[0m\n",
      "\u001b[1;32md:\\PythonScripts\\RL_for_Trading\\.venv\\Lib\\site-packages\\pandas\\core\\generic.py\u001b[0m in \u001b[0;36m?\u001b[1;34m(self, key, axis)\u001b[0m\n\u001b[0;32m   1907\u001b[0m             \u001b[0mvalues\u001b[0m \u001b[1;33m=\u001b[0m \u001b[0mself\u001b[0m\u001b[1;33m.\u001b[0m\u001b[0mxs\u001b[0m\u001b[1;33m(\u001b[0m\u001b[0mkey\u001b[0m\u001b[1;33m,\u001b[0m \u001b[0maxis\u001b[0m\u001b[1;33m=\u001b[0m\u001b[0mother_axes\u001b[0m\u001b[1;33m[\u001b[0m\u001b[1;36m0\u001b[0m\u001b[1;33m]\u001b[0m\u001b[1;33m)\u001b[0m\u001b[1;33m.\u001b[0m\u001b[0m_values\u001b[0m\u001b[1;33m\u001b[0m\u001b[1;33m\u001b[0m\u001b[0m\n\u001b[0;32m   1908\u001b[0m         \u001b[1;32melif\u001b[0m \u001b[0mself\u001b[0m\u001b[1;33m.\u001b[0m\u001b[0m_is_level_reference\u001b[0m\u001b[1;33m(\u001b[0m\u001b[0mkey\u001b[0m\u001b[1;33m,\u001b[0m \u001b[0maxis\u001b[0m\u001b[1;33m=\u001b[0m\u001b[0maxis\u001b[0m\u001b[1;33m)\u001b[0m\u001b[1;33m:\u001b[0m\u001b[1;33m\u001b[0m\u001b[1;33m\u001b[0m\u001b[0m\n\u001b[0;32m   1909\u001b[0m             \u001b[0mvalues\u001b[0m \u001b[1;33m=\u001b[0m \u001b[0mself\u001b[0m\u001b[1;33m.\u001b[0m\u001b[0maxes\u001b[0m\u001b[1;33m[\u001b[0m\u001b[0maxis\u001b[0m\u001b[1;33m]\u001b[0m\u001b[1;33m.\u001b[0m\u001b[0mget_level_values\u001b[0m\u001b[1;33m(\u001b[0m\u001b[0mkey\u001b[0m\u001b[1;33m)\u001b[0m\u001b[1;33m.\u001b[0m\u001b[0m_values\u001b[0m\u001b[1;33m\u001b[0m\u001b[1;33m\u001b[0m\u001b[0m\n\u001b[0;32m   1910\u001b[0m         \u001b[1;32melse\u001b[0m\u001b[1;33m:\u001b[0m\u001b[1;33m\u001b[0m\u001b[1;33m\u001b[0m\u001b[0m\n\u001b[1;32m-> 1911\u001b[1;33m             \u001b[1;32mraise\u001b[0m \u001b[0mKeyError\u001b[0m\u001b[1;33m(\u001b[0m\u001b[0mkey\u001b[0m\u001b[1;33m)\u001b[0m\u001b[1;33m\u001b[0m\u001b[1;33m\u001b[0m\u001b[0m\n\u001b[0m\u001b[0;32m   1912\u001b[0m \u001b[1;33m\u001b[0m\u001b[0m\n\u001b[0;32m   1913\u001b[0m         \u001b[1;31m# Check for duplicates\u001b[0m\u001b[1;33m\u001b[0m\u001b[1;33m\u001b[0m\u001b[0m\n\u001b[0;32m   1914\u001b[0m         \u001b[1;32mif\u001b[0m \u001b[0mvalues\u001b[0m\u001b[1;33m.\u001b[0m\u001b[0mndim\u001b[0m \u001b[1;33m>\u001b[0m \u001b[1;36m1\u001b[0m\u001b[1;33m:\u001b[0m\u001b[1;33m\u001b[0m\u001b[1;33m\u001b[0m\u001b[0m\n",
      "\u001b[1;31mKeyError\u001b[0m: 'Date'"
     ]
    }
   ],
   "source": [
    "# result = df.groupby('Asset_ID_encoded').apply(calculate_price_differences).reset_index()\n",
    "# columns_to_round = ['abs_diff_start_end', 'rel_diff_start_end', 'abs_diff_max_min', 'rel_diff_max_min']\n",
    "# result[columns_to_round] = result[columns_to_round].round(3)\n",
    "# result.head()"
   ]
  },
  {
   "cell_type": "code",
   "execution_count": null,
   "metadata": {},
   "outputs": [],
   "source": [
    "45\n",
    "47\n",
    "32\n",
    "41\n",
    "7\n",
    "1\n",
    "38\n",
    "5\n",
    "31\n",
    "26"
   ]
  }
 ],
 "metadata": {
  "kernelspec": {
   "display_name": ".venv",
   "language": "python",
   "name": "python3"
  },
  "language_info": {
   "codemirror_mode": {
    "name": "ipython",
    "version": 3
   },
   "file_extension": ".py",
   "mimetype": "text/x-python",
   "name": "python",
   "nbconvert_exporter": "python",
   "pygments_lexer": "ipython3",
   "version": "3.11.0"
  }
 },
 "nbformat": 4,
 "nbformat_minor": 2
}
