{
 "cells": [
  {
   "cell_type": "markdown",
   "metadata": {},
   "source": [
    "# Install and Import "
   ]
  },
  {
   "cell_type": "code",
   "execution_count": 65,
   "metadata": {},
   "outputs": [],
   "source": [
    "# !pip install tensorflow==2.15.0\n",
    "# !pip install gym\n",
    "# !pip install keras\n",
    "# !pip install keras-rl2\n",
    "# %pip install scikit-learn"
   ]
  },
  {
   "cell_type": "code",
   "execution_count": 66,
   "metadata": {},
   "outputs": [],
   "source": [
    "# %pip install ipykernel\n",
    "# %pip install --upgrade nbformat\n",
    "# %pip install stable-baselines3[extra]\n",
    "# %pip install gymnasium"
   ]
  },
  {
   "cell_type": "code",
   "execution_count": 67,
   "metadata": {},
   "outputs": [],
   "source": [
    "import numpy as np\n",
    "import pandas as pd\n",
    "import random\n",
    "import logging\n",
    "import math\n",
    "from model_config import Path\n",
    "import os"
   ]
  },
  {
   "cell_type": "code",
   "execution_count": 68,
   "metadata": {},
   "outputs": [],
   "source": [
    "import gymnasium as gym\n",
    "from gym import Env\n",
    "import gym\n",
    "from gym import spaces"
   ]
  },
  {
   "cell_type": "code",
   "execution_count": 69,
   "metadata": {},
   "outputs": [],
   "source": [
    "from stable_baselines3.common.env_checker import check_env\n",
    "from stable_baselines3 import SAC"
   ]
  },
  {
   "cell_type": "code",
   "execution_count": 70,
   "metadata": {},
   "outputs": [],
   "source": [
    "import decimal\n",
    "decimal.getcontext().prec = 28  # Increase precision"
   ]
  },
  {
   "cell_type": "code",
   "execution_count": 71,
   "metadata": {},
   "outputs": [],
   "source": [
    "import plotly.express as px\n",
    "import plotly.graph_objects as go"
   ]
  },
  {
   "cell_type": "markdown",
   "metadata": {},
   "source": [
    "# Open and Preprocessing Data"
   ]
  },
  {
   "cell_type": "code",
   "execution_count": 72,
   "metadata": {},
   "outputs": [],
   "source": [
    "model_num = 2\n",
    "data_num = 4\n",
    "nb_steps = 2981"
   ]
  },
  {
   "cell_type": "code",
   "execution_count": 73,
   "metadata": {},
   "outputs": [],
   "source": [
    "train_df = pd.read_csv(Path[\"train_data\"](model_num, data_num))"
   ]
  },
  {
   "cell_type": "code",
   "execution_count": 74,
   "metadata": {},
   "outputs": [],
   "source": [
    "test_df = pd.read_csv(Path[\"test_data\"](model_num, data_num))"
   ]
  },
  {
   "cell_type": "code",
   "execution_count": null,
   "metadata": {},
   "outputs": [],
   "source": [
    "zero_close_prices = train_df[train_df['Close'] == 0]\n",
    "print(f\"Number of zero 'Close' prices after scaling: {len(zero_close_prices)}\")"
   ]
  },
  {
   "cell_type": "code",
   "execution_count": null,
   "metadata": {},
   "outputs": [],
   "source": [
    "unique_values = train_df['Asset_ID_Encoded'].unique()\n",
    "unique_values"
   ]
  },
  {
   "cell_type": "code",
   "execution_count": null,
   "metadata": {},
   "outputs": [],
   "source": [
    "unique_values = train_df['Iteration'].unique()\n",
    "unique_values"
   ]
  },
  {
   "cell_type": "markdown",
   "metadata": {},
   "source": [
    "# Game Rule"
   ]
  },
  {
   "cell_type": "code",
   "execution_count": 78,
   "metadata": {},
   "outputs": [],
   "source": [
    "class TradingEnv(gym.Env):\n",
    "    \"\"\"A custom trading environment for OpenAI Gym\"\"\"\n",
    "    metadata = {'render.modes': ['human']}\n",
    "\n",
    "    def __init__(self, df, time_window=168, sigma_tgt=2, fee_cost=0.0001):\n",
    "        super(TradingEnv, self).__init__()\n",
    "        \n",
    "        self.df = df.reset_index(drop=True)\n",
    "        self.time_window = time_window\n",
    "        self.current_step = 0\n",
    "        self.tokens = len(self.df['Asset_ID_Encoded'].unique()) \n",
    "        self.end_step = len(self.df['Iteration'].unique()) - 1\n",
    "         \n",
    "        self.initial_balance = 10 ** 6  \n",
    "        self.balance = self.initial_balance\n",
    "        self.net_worth = self.initial_balance\n",
    "        self.done = False\n",
    "        self.fee_cost = fee_cost  \n",
    "        self.mu = 1000\n",
    "        self.action_prev = 0\n",
    "        self.sigma_tgt = sigma_tgt\n",
    "        self.asset_holdings = 0\n",
    "        self.target_token = 0\n",
    "        \n",
    "        self.hist = {\n",
    "            \"current_step\": [],\n",
    "            'balance': [],\n",
    "            'net_worth': [],\n",
    "            'asset_holdings': [],\n",
    "            \"price_now\": [],\n",
    "            \"reward\": [],\n",
    "            \"action_prev\":[],\n",
    "            \"action\": [],\n",
    "            \"volatility\":[],\n",
    "            \"volatility_prev\":[],\n",
    "            \"position_scale_now\":[],\n",
    "            \"position_scale_prev\":[],\n",
    "            \"delta_position\":[],\n",
    "            \"transaction_cost\":[],\n",
    "            \"cash_flow\":[],\n",
    "            \"profit\":[],\n",
    "        }\n",
    "\n",
    "        self.action_space =  spaces.Discrete(2)\n",
    "\n",
    "        self.observation_space = spaces.Box(low=-np.inf, high=np.inf, \n",
    "                                            shape=(time_window * self.tokens, df.shape[1]-3), dtype=np.float32)\n",
    "        # Subtract 3 for 'Asset_ID_Encoded', 'Iteration', and 'Date' columns\n",
    "\n",
    "    def reset(self, reset_hist = False):\n",
    "        self.current_step = 0\n",
    "        self.balance = self.initial_balance\n",
    "        self.net_worth = self.initial_balance\n",
    "        self.done = False\n",
    "        self.asset_holdings = 0\n",
    "\n",
    "        # Reset hist only if reset_hist is True\n",
    "        if reset_hist:\n",
    "            self.hist = {\n",
    "                \"current_step\": [],\n",
    "                'balance': [],\n",
    "                'net_worth': [],\n",
    "                'asset_holdings': [],\n",
    "                \"price_now\": [],\n",
    "                \"reward\": [],\n",
    "                \"action_prev\":[],\n",
    "                \"action\": [],\n",
    "                \"volatility\":[],\n",
    "                \"volatility_prev\":[],\n",
    "                \"position_scale_now\":[],\n",
    "                \"position_scale_prev\":[],\n",
    "                \"delta_position\":[],\n",
    "                \"transaction_cost\":[],\n",
    "                \"cash_flow\":[],\n",
    "                \"profit\":[],\n",
    "            }\n",
    "\n",
    "        return self._next_observation()\n",
    "\n",
    "\n",
    "    def _next_observation(self):\n",
    "        # Get the data for the current time window\n",
    "        self.now_df = self.df[self.df['Iteration'] == self.current_step]\n",
    "        obs = self.now_df.drop(columns=['Iteration', \"Close\", 'Unnamed: 0'])\n",
    "        obs = obs.values\n",
    "        return obs\n",
    "\n",
    "\n",
    "    def step(self, action):\n",
    "        self.done = False\n",
    "        self.reward = 0\n",
    "        self.token_df = self.now_df[self.now_df['Asset_ID_Encoded'] == self.target_token]\n",
    "\n",
    "        # -1 - это текущий шаг, -2 - предыдущий \n",
    "        price_prev = self.token_df['Close'].iloc[-2] * 10**6\n",
    "        price_now = self.token_df['Close'].iloc[-1] * 10**6\n",
    "        rt = price_now - price_prev\n",
    "\n",
    "        # Волатильность\n",
    "        sigma_now = self.token_df['Volatility_Normalized'].iloc[-2]\n",
    "        sigma_prev = self.token_df['Volatility_Normalized'].iloc[-3]\n",
    "\n",
    "        # Вычисляем компоненты формулы\n",
    "        position_scale_now = (self.sigma_tgt / sigma_now) * action\n",
    "        position_scale_prev = (self.sigma_tgt / sigma_prev) * self.action_prev\n",
    "\n",
    "        delta_position = position_scale_now - position_scale_prev\n",
    "\n",
    "        # Транзакционные издержки\n",
    "        transaction_cost = self.fee_cost * price_now * abs(delta_position)\n",
    "\n",
    "        # Обновляем удерживаемые активы\n",
    "        if delta_position < 1:\n",
    "            self.asset_holdings += 1\n",
    "        \n",
    "        self.asset_holdings += delta_position\n",
    "\n",
    "        # Рассчитываем стоимость покупки или продажи активов\n",
    "        cash_flow = - delta_position * price_now  # Отток средств при покупке (delta_position > 0), приток при продаже (delta_position < 0)\n",
    "\n",
    "        # Обновляем баланс\n",
    "        self.balance += cash_flow - transaction_cost\n",
    "\n",
    "        # Обновляем чистую стоимость активов\n",
    "        self.net_worth = self.balance + self.asset_holdings * price_now\n",
    "\n",
    "        profit = position_scale_now * rt\n",
    "        reward = self.mu * (profit - transaction_cost)\n",
    "\n",
    "        # Обновляем позиции\n",
    "        self.action_prev = action\n",
    "\n",
    "        # Переходим к следующему шагу\n",
    "        self.current_step += 1\n",
    "\n",
    "        # Проверяем, не закончились ли данные\n",
    "        if self.current_step >= self.end_step:\n",
    "            self.done = True\n",
    "\n",
    "        # Формируем следующее наблюдение\n",
    "        obs = self._next_observation()\n",
    "\n",
    "        # Информация может включать дополнительные данные\n",
    "        self.hist[\"current_step\"].append(self.current_step)\n",
    "        self.hist[\"balance\"].append(self.balance)\n",
    "        self.hist[\"net_worth\"].append(self.net_worth)\n",
    "        self.hist[\"asset_holdings\"].append(self.asset_holdings)\n",
    "        self.hist[\"price_now\"].append(price_now)\n",
    "        self.hist[\"reward\"].append(self.reward)\n",
    "        self.hist[\"action_prev\"].append(self.action_prev)\n",
    "        self.hist[\"action\"].append(action)\n",
    "        self.hist[\"volatility\"].append(sigma_now)\n",
    "        self.hist[\"volatility_prev\"].append(sigma_prev)\n",
    "        self.hist[\"position_scale_now\"].append(position_scale_now)\n",
    "        self.hist[\"position_scale_prev\"].append(position_scale_prev)\n",
    "        self.hist[\"delta_position\"].append(delta_position)\n",
    "        self.hist[\"transaction_cost\"].append(transaction_cost)\n",
    "        self.hist[\"cash_flow\"].append(cash_flow)\n",
    "        self.hist[\"profit\"].append(profit)\n",
    "\n",
    "        return obs, reward, self.done, {}\n",
    "\n",
    "\n",
    "    def render(self, mode='human', close=False):\n",
    "        # Render the environment to the screen\n",
    "        profit = self.net_worth - self.initial_balance\n",
    "        print(f'Step: {self.current_step}')\n",
    "        print(f'Balance: {self.balance}')\n",
    "        print(f'Asset Holdings: {self.asset_holdings}')\n",
    "        print(f'Net Worth: {self.net_worth}')\n",
    "        print(f'Profit: {profit}')"
   ]
  },
  {
   "cell_type": "code",
   "execution_count": 79,
   "metadata": {},
   "outputs": [],
   "source": [
    "train_env = TradingEnv(train_df)"
   ]
  },
  {
   "cell_type": "code",
   "execution_count": 80,
   "metadata": {},
   "outputs": [],
   "source": [
    "test_env = TradingEnv(test_df)"
   ]
  },
  {
   "cell_type": "code",
   "execution_count": 81,
   "metadata": {},
   "outputs": [],
   "source": [
    "# check_env(train_env)"
   ]
  },
  {
   "cell_type": "markdown",
   "metadata": {},
   "source": [
    "# Train Model"
   ]
  },
  {
   "cell_type": "markdown",
   "metadata": {},
   "source": [
    "## Settings"
   ]
  },
  {
   "cell_type": "code",
   "execution_count": null,
   "metadata": {},
   "outputs": [],
   "source": [
    "from stable_baselines3 import A2C\n",
    "model = A2C(\n",
    "    policy='MlpPolicy',  # Use a Multi-Layer Perceptron policy\n",
    "    env= train_env,\n",
    "    learning_rate=1e-4,\n",
    "    gamma=0.99,  \n",
    "    verbose=1,      \n",
    ")"
   ]
  },
  {
   "cell_type": "markdown",
   "metadata": {},
   "source": [
    "## Train"
   ]
  },
  {
   "cell_type": "code",
   "execution_count": null,
   "metadata": {},
   "outputs": [],
   "source": [
    "model.learn(\n",
    "    total_timesteps=nb_steps,\n",
    "    log_interval=1000,        # Log every 1000 steps\n",
    "    # callback=eval_callback    # Pass the evaluation callback here\n",
    ")"
   ]
  },
  {
   "cell_type": "code",
   "execution_count": 84,
   "metadata": {},
   "outputs": [],
   "source": [
    "# Save the trained model\n",
    "model.save(Path[\"model\"](model_num))"
   ]
  },
  {
   "cell_type": "code",
   "execution_count": null,
   "metadata": {},
   "outputs": [],
   "source": [
    "train_hist = train_env.hist\n",
    "print(len(train_hist[\"action\"]))\n",
    "train_hist_df = pd.DataFrame(train_hist)"
   ]
  },
  {
   "cell_type": "code",
   "execution_count": 86,
   "metadata": {},
   "outputs": [],
   "source": [
    "obs = test_env.reset()\n",
    "for _ in range(len(test_env.df) - 1):\n",
    "    action, _states = model.predict(obs)\n",
    "    obs, rewards, done, info = test_env.step(action)\n",
    "    if done:\n",
    "        break"
   ]
  },
  {
   "cell_type": "code",
   "execution_count": null,
   "metadata": {},
   "outputs": [],
   "source": [
    "test_hist = test_env.hist\n",
    "print(len(test_hist[\"action\"]))\n",
    "test_hist_df = pd.DataFrame(test_hist)"
   ]
  },
  {
   "cell_type": "code",
   "execution_count": null,
   "metadata": {},
   "outputs": [],
   "source": [
    "unique_values = train_hist_df['current_step'].unique()\n",
    "unique_values"
   ]
  },
  {
   "cell_type": "code",
   "execution_count": null,
   "metadata": {},
   "outputs": [],
   "source": [
    "train_hist_df"
   ]
  },
  {
   "cell_type": "code",
   "execution_count": null,
   "metadata": {},
   "outputs": [],
   "source": [
    "train_hist_df.describe()"
   ]
  },
  {
   "cell_type": "markdown",
   "metadata": {},
   "source": [
    "# Visualisaton"
   ]
  },
  {
   "cell_type": "markdown",
   "metadata": {},
   "source": [
    "## Functions"
   ]
  },
  {
   "cell_type": "code",
   "execution_count": 91,
   "metadata": {},
   "outputs": [],
   "source": [
    "def plot_close_by_asset(df, asset_id):\n",
    "    # Фильтрация данных по Asset_ID_Encoded\n",
    "    asset_data = df[df['Asset_ID_Encoded'] == asset_id]\n",
    "    \n",
    "    # Построение графика Close к индексу DataFrame\n",
    "    fig = px.line(asset_data, x=asset_data.index, y='Close', \n",
    "                  title=f'Close Price for Asset ID {asset_id}', \n",
    "                  labels={'index': 'Index', 'Close': 'Close Price'})\n",
    "    \n",
    "    # Показать график\n",
    "    fig.show()"
   ]
  },
  {
   "cell_type": "code",
   "execution_count": 92,
   "metadata": {},
   "outputs": [],
   "source": [
    "def plot_price_change_by_asset(df, asset_id):\n",
    "    # Фильтрация данных по Asset_ID_Encoded\n",
    "    asset_data = df[df['Asset_ID_Encoded'] == asset_id].copy()\n",
    "    \n",
    "    # Вычисление процентного изменения цены (Close)\n",
    "    asset_data['Price_Change_Percent'] = asset_data['Close'].pct_change() * 100\n",
    "    \n",
    "    # Построение графика изменения цены в процентах\n",
    "    fig = px.line(asset_data, x=asset_data.index, y='Price_Change_Percent', \n",
    "                  title=f'Price Change Percentage for Asset ID {asset_id}', \n",
    "                  labels={'index': 'Index', 'Price_Change_Percent': 'Price Change (%)'})\n",
    "    \n",
    "    # Показать график\n",
    "    fig.show()"
   ]
  },
  {
   "cell_type": "code",
   "execution_count": 97,
   "metadata": {},
   "outputs": [],
   "source": [
    "def plot_token_data(df, token):\n",
    "    # Фильтрация данных по выбранному токену\n",
    "    token_data = df\n",
    "    \n",
    "    # Вычисление среднего значения net_worth для данного токена\n",
    "    avg_net_worth = token_data['net_worth'].mean()\n",
    "\n",
    "    # Создание графика\n",
    "    fig = go.Figure()\n",
    "\n",
    "    # Линия net_worth\n",
    "    fig.add_trace(go.Scatter(x=token_data['current_step'], y=token_data['net_worth'], mode='lines', name='Net Worth'))\n",
    "\n",
    "    # Горизонтальная линия для net_worth = 1000\n",
    "    fig.add_hline(y=1000, line_color=\"green\", name='Net Worth = 1000')\n",
    "\n",
    "    # Горизонтальная линия для среднего значения net_worth\n",
    "    fig.add_hline(y=avg_net_worth, line_color=\"red\", name=f'Average Net Worth = {avg_net_worth:.2f}')\n",
    "\n",
    "    # Настройка заголовков и осей\n",
    "    fig.update_layout(title=f'Net Worth and Average for {token}',\n",
    "                      xaxis_title='Current Step',\n",
    "                      yaxis_title='Net Worth')\n",
    "\n",
    "    # Показать график\n",
    "    fig.show()"
   ]
  },
  {
   "cell_type": "code",
   "execution_count": 98,
   "metadata": {},
   "outputs": [],
   "source": [
    "def plot_action_counts(df, token):\n",
    "    # Фильтрация данных по токену\n",
    "    token_data = df[df['token'] == token]\n",
    "    \n",
    "    # Подсчет количества каждого уникального действия для данного токена\n",
    "    action_counts = token_data['action'].value_counts().reset_index()\n",
    "    action_counts.columns = ['action', 'count']\n",
    "\n",
    "    # Построение бар-чарта для отображения количества каждого действия\n",
    "    fig = px.bar(action_counts, x='action', y='count', title=f'Count of Actions for {token}', labels={'action': 'Action', 'count': 'Count'})\n",
    "\n",
    "    # Показать график\n",
    "    fig.show()"
   ]
  },
  {
   "cell_type": "code",
   "execution_count": 99,
   "metadata": {},
   "outputs": [],
   "source": [
    "def plot_relative_change_by_token(df, token):\n",
    "    # Фильтрация данных по токену\n",
    "    token_data = df[df['token'] == token].copy()\n",
    "\n",
    "    # Вычисление относительного изменения для current_price и net_worth\n",
    "    token_data['Price_Change_Percent'] = token_data['current_price'].pct_change() * 100\n",
    "    token_data['NetWorth_Change_Percent'] = token_data['net_worth'].pct_change() * 100\n",
    "\n",
    "    # Создание графика\n",
    "    fig = go.Figure()\n",
    "\n",
    "    # Линия для изменения current_price\n",
    "    fig.add_trace(go.Scatter(x=token_data['current_step'], y=token_data['Price_Change_Percent'],\n",
    "                             mode='lines', name='Current Price Change (%)'))\n",
    "\n",
    "    # Линия для изменения net_worth\n",
    "    fig.add_trace(go.Scatter(x=token_data['current_step'], y=token_data['NetWorth_Change_Percent'],\n",
    "                             mode='lines', name='Net Worth Change (%)'))\n",
    "\n",
    "    # Настройка заголовков и осей\n",
    "    fig.update_layout(title=f'Relative Change of Current Price and Net Worth for {token}',\n",
    "                      xaxis_title='Current Step',\n",
    "                      yaxis_title='Change (%)')\n",
    "\n",
    "    # Показать график\n",
    "    fig.show()"
   ]
  },
  {
   "cell_type": "markdown",
   "metadata": {},
   "source": [
    "## Plots"
   ]
  },
  {
   "cell_type": "code",
   "execution_count": null,
   "metadata": {},
   "outputs": [],
   "source": [
    "token = 0\n",
    "plot_token_data(df = train_hist_df, token = token)\n",
    "plot_close_by_asset(df= train_df, asset_id= token)\n",
    "plot_price_change_by_asset(df= train_df, asset_id= token)\n",
    "plot_relative_change_by_token(df = train_hist_df, token = token)"
   ]
  },
  {
   "cell_type": "code",
   "execution_count": null,
   "metadata": {},
   "outputs": [],
   "source": [
    "train_hist_df"
   ]
  },
  {
   "cell_type": "code",
   "execution_count": null,
   "metadata": {},
   "outputs": [],
   "source": [
    "train_hist_df.describe()"
   ]
  },
  {
   "cell_type": "markdown",
   "metadata": {},
   "source": [
    "# Test Model"
   ]
  },
  {
   "cell_type": "markdown",
   "metadata": {},
   "source": [
    "## Test"
   ]
  },
  {
   "cell_type": "code",
   "execution_count": null,
   "metadata": {},
   "outputs": [],
   "source": [
    "obs, info = test_env.reset(reset_hist=True)  # Reset hist at the beginning\n",
    "for _ in range(len(test_df)):\n",
    "    action, _states = model.predict(obs, deterministic=True)\n",
    "    obs, reward, terminated, truncated, info = test_env.step(action)\n",
    "\n",
    "    if terminated or truncated:\n",
    "        obs, info = test_env.reset(reset_hist=False)  # Do not reset hist"
   ]
  },
  {
   "cell_type": "code",
   "execution_count": null,
   "metadata": {},
   "outputs": [],
   "source": [
    "test_hist = test_env.hist\n",
    "test_hist_df = pd.DataFrame(test_hist)\n",
    "print(len(test_hist[\"action\"]))"
   ]
  },
  {
   "cell_type": "code",
   "execution_count": null,
   "metadata": {},
   "outputs": [],
   "source": [
    "test_hist_df"
   ]
  },
  {
   "cell_type": "code",
   "execution_count": null,
   "metadata": {},
   "outputs": [],
   "source": [
    "unique_values = test_hist_df['token'].unique()\n",
    "unique_values"
   ]
  },
  {
   "cell_type": "markdown",
   "metadata": {},
   "source": [
    "## Plots"
   ]
  },
  {
   "cell_type": "code",
   "execution_count": 53,
   "metadata": {},
   "outputs": [],
   "source": [
    "token = 25"
   ]
  },
  {
   "cell_type": "code",
   "execution_count": null,
   "metadata": {},
   "outputs": [],
   "source": [
    "plot_token_data(df = test_hist_df, token = token)"
   ]
  },
  {
   "cell_type": "code",
   "execution_count": null,
   "metadata": {},
   "outputs": [],
   "source": [
    "plot_close_by_asset(df= test_df, asset_id= token)"
   ]
  },
  {
   "cell_type": "markdown",
   "metadata": {},
   "source": [
    "## Metrics"
   ]
  },
  {
   "cell_type": "code",
   "execution_count": 56,
   "metadata": {},
   "outputs": [],
   "source": [
    "def evaluate_model(hist_df, test_df, initial_balance):\n",
    "    \"\"\"\n",
    "    Evaluate the model's performance.\n",
    "\n",
    "    Parameters:\n",
    "    - full_hist: Dictionary containing the testing history.\n",
    "    - test_df: DataFrame containing the test data.\n",
    "    - initial_balance: Initial balance used in the environment.\n",
    "\n",
    "    Returns:\n",
    "    - report_df: DataFrame containing performance metrics per asset.\n",
    "    - overall_metrics: Dictionary containing overall performance metrics.\n",
    "    \"\"\"\n",
    "\n",
    "    # Ensure timestamps are in order\n",
    "    hist_df = hist_df.sort_values('current_step').reset_index(drop=True)\n",
    "\n",
    "    # List of assets\n",
    "    assets = hist_df['token'].unique()\n",
    "\n",
    "    # Initialize report DataFrame\n",
    "    report = []\n",
    "\n",
    "    for asset_id in assets:\n",
    "        asset_hist = hist_df[hist_df['token'] == asset_id]\n",
    "        asset_data = test_df[test_df['Asset_ID_Encoded'] == asset_id]\n",
    "\n",
    "        # Calculate total profit/loss\n",
    "        final_net_worth = asset_hist['net_worth'].iloc[-1]\n",
    "        total_profit = final_net_worth - initial_balance\n",
    "\n",
    "        # Calculate ROI\n",
    "        roi = (final_net_worth - initial_balance) / initial_balance * 100\n",
    "\n",
    "        # Calculate Sharpe Ratio\n",
    "        returns = asset_hist['net_worth'].pct_change().dropna()\n",
    "        if returns.std() != 0:\n",
    "            sharpe_ratio = (returns.mean() / returns.std()) * np.sqrt(252)  # Assuming daily data\n",
    "        else:\n",
    "            sharpe_ratio = np.nan  # Undefined if no variance\n",
    "\n",
    "        # Calculate Maximum Drawdown\n",
    "        cumulative_returns = (1 + returns).cumprod()\n",
    "        cumulative_max = cumulative_returns.cummax()\n",
    "        drawdown = (cumulative_returns - cumulative_max) / cumulative_max\n",
    "        max_drawdown = drawdown.min()\n",
    "\n",
    "        # Calculate Win Rate\n",
    "        trades = asset_hist[asset_hist['action'] != 0]\n",
    "        wins = trades[trades['net_worth'].diff() > 0]\n",
    "        win_rate = len(wins) / len(trades) * 100 if len(trades) > 0 else np.nan\n",
    "\n",
    "        # Buy-and-Hold Strategy\n",
    "        initial_price = asset_data['Close'].iloc[0]\n",
    "        final_price = asset_data['Close'].iloc[-1]\n",
    "        buy_and_hold_profit = (final_price - initial_price) * (initial_balance / initial_price)\n",
    "        buy_and_hold_roi = (final_price - initial_price) / initial_price * 100\n",
    "\n",
    "        # Ideal Strategy\n",
    "        min_price = asset_data['Close'].min()\n",
    "        max_price = asset_data['Close'].max()\n",
    "        ideal_profit = (max_price - min_price) * (initial_balance / min_price)\n",
    "        ideal_roi = (max_price - min_price) / min_price * 100\n",
    "\n",
    "        # Collect metrics\n",
    "        report.append({\n",
    "            'Asset_ID': asset_id,\n",
    "            'Total Profit': total_profit,\n",
    "            'ROI (%)': roi,\n",
    "            'Sharpe Ratio': sharpe_ratio,\n",
    "            'Max Drawdown (%)': max_drawdown * 100,\n",
    "            'Win Rate (%)': win_rate,\n",
    "            'Buy-and-Hold Profit': buy_and_hold_profit,\n",
    "            'Buy-and-Hold ROI (%)': buy_and_hold_roi,\n",
    "            'Ideal Profit': ideal_profit,\n",
    "            'Ideal ROI (%)': ideal_roi,\n",
    "            'Asset Price Change (%)': (final_price - initial_price) / initial_price * 100,\n",
    "        })\n",
    "\n",
    "    # Create DataFrame from report\n",
    "    report_df = pd.DataFrame(report)\n",
    "\n",
    "    # Calculate overall metrics\n",
    "    overall_profit = report_df['Total Profit'].sum()\n",
    "    overall_roi = (overall_profit / (initial_balance * len(assets))) * 100\n",
    "    overall_sharpe = report_df['Sharpe Ratio'].mean()\n",
    "    overall_win_rate = report_df['Win Rate (%)'].mean()\n",
    "    overall_buy_and_hold_profit = report_df['Buy-and-Hold Profit'].sum()\n",
    "    overall_buy_and_hold_roi = (overall_buy_and_hold_profit / (initial_balance * len(assets))) * 100\n",
    "\n",
    "    overall_metrics = {\n",
    "        'Total Profit': overall_profit,\n",
    "        'ROI (%)': overall_roi,\n",
    "        'Sharpe Ratio': overall_sharpe,\n",
    "        'Win Rate (%)': overall_win_rate,\n",
    "        'Buy-and-Hold Profit': overall_buy_and_hold_profit,\n",
    "        'Buy-and-Hold ROI (%)': overall_buy_and_hold_roi,\n",
    "    }\n",
    "\n",
    "    return report_df, overall_metrics"
   ]
  },
  {
   "cell_type": "code",
   "execution_count": 57,
   "metadata": {},
   "outputs": [],
   "source": [
    "# Example for one model\n",
    "report_df, overall_metrics = evaluate_model(test_hist_df, test_df, initial_balance = 1000)"
   ]
  },
  {
   "cell_type": "code",
   "execution_count": null,
   "metadata": {},
   "outputs": [],
   "source": [
    "report_df"
   ]
  },
  {
   "cell_type": "code",
   "execution_count": null,
   "metadata": {},
   "outputs": [],
   "source": [
    "overall_metrics"
   ]
  }
 ],
 "metadata": {
  "kernelspec": {
   "display_name": ".venv",
   "language": "python",
   "name": "python3"
  },
  "language_info": {
   "codemirror_mode": {
    "name": "ipython",
    "version": 3
   },
   "file_extension": ".py",
   "mimetype": "text/x-python",
   "name": "python",
   "nbconvert_exporter": "python",
   "pygments_lexer": "ipython3",
   "version": "3.11.0"
  }
 },
 "nbformat": 4,
 "nbformat_minor": 2
}
