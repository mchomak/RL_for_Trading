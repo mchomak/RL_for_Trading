{
 "cells": [
  {
   "cell_type": "code",
   "execution_count": 13,
   "metadata": {},
   "outputs": [],
   "source": [
    "import os\n",
    "import pandas as pd\n",
    "import numpy as np\n",
    "from datetime import datetime, timedelta\n",
    "import ta\n",
    "from ydata_profiling import ProfileReport\n",
    "from model_config import Path\n",
    "import plotly.express as px"
   ]
  },
  {
   "cell_type": "code",
   "execution_count": 14,
   "metadata": {},
   "outputs": [],
   "source": [
    "# Параметры\n",
    "data_folder = Path['raw']  # Путь к папке с данными\n",
    "time_window = 168  # Временное окно в часах (1 неделя)\n",
    "hours_cnt = 3860\n",
    "split_cnt = 0.8"
   ]
  },
  {
   "cell_type": "code",
   "execution_count": 15,
   "metadata": {},
   "outputs": [],
   "source": [
    "train_data = []\n",
    "test_data = []\n",
    "final_data = []"
   ]
  },
  {
   "cell_type": "code",
   "execution_count": 16,
   "metadata": {},
   "outputs": [],
   "source": [
    "# Получаем список всех CSV-файлов в папке\n",
    "file_list = [f for f in os.listdir(data_folder) if f.endswith('.csv')]"
   ]
  },
  {
   "cell_type": "code",
   "execution_count": 17,
   "metadata": {},
   "outputs": [],
   "source": [
    "valid_tokens = {}\n",
    "token_min_dates = []\n",
    "token_max_dates = []"
   ]
  },
  {
   "cell_type": "code",
   "execution_count": null,
   "metadata": {},
   "outputs": [],
   "source": [
    "i = 0\n",
    "for file in file_list:\n",
    "    file_path = os.path.join(data_folder, file)\n",
    "    df = pd.read_csv(file_path)\n",
    "    token_name = file.split(\"_\")[0]\n",
    "\n",
    "    # if len(df) < hours_cnt: #160 дней \n",
    "    #     print(f\"Токен {token_name} не имеет достаточного количества данных. Пропускаем его. {df.shape}\")\n",
    "    #     continue\n",
    "    \n",
    "    valid_tokens[token_name] = i\n",
    "    df['Date'] = pd.to_datetime(df['Date'])\n",
    "    df = df.sort_values('Date')\n",
    "    start_date = df['Date'].min()\n",
    "    end_date = df['Date'].max()\n",
    "    df = df.set_index('Date')\n",
    "\n",
    "    # Создаем полный индекс временных меток с шагом 1 час\n",
    "    full_time_index = pd.date_range(start=start_date, end=end_date, freq='h')\n",
    "    df = df.reindex(full_time_index)\n",
    "    df = df.reset_index()\n",
    "    df.rename(columns={\"index\":\"Date\"}, inplace= True)\n",
    "\n",
    "    token_min_dates.append(df['Date'].min())\n",
    "    token_max_dates.append(df['Date'].max())\n",
    "    i+=1\n",
    "\n",
    "# Определяем общую конечную дату как самую раннюю из максимальных дат всех токенов\n",
    "common_start_date = max(token_min_dates)\n",
    "common_end_date = max(token_max_dates)\n",
    "print(common_start_date, common_end_date)"
   ]
  },
  {
   "cell_type": "code",
   "execution_count": null,
   "metadata": {},
   "outputs": [],
   "source": [
    "valid_tokens"
   ]
  },
  {
   "cell_type": "code",
   "execution_count": null,
   "metadata": {},
   "outputs": [],
   "source": [
    "for file in file_list:\n",
    "    file_path = os.path.join(data_folder, file)\n",
    "    token_name = file.split(\"_\")[0]\n",
    "    if token_name not in valid_tokens:\n",
    "        continue\n",
    "\n",
    "    df = pd.read_csv(file_path)\n",
    "    \n",
    "    # Обрабатываем дату\n",
    "    df['Date'] = pd.to_datetime(df['Date'])\n",
    "    df = df.sort_values('Date')\n",
    "    start_date = df['Date'].min()\n",
    "    end_date = df['Date'].max()\n",
    "    df = df.set_index('Date')\n",
    "\n",
    "    # Создаем полный индекс временных меток с шагом 1 час\n",
    "    full_time_index = pd.date_range(start=start_date, end=end_date, freq='h')\n",
    "    df = df.reindex(full_time_index)\n",
    "\n",
    "    # Заполняем пропущенные значения путем интерполяции\n",
    "    numeric_columns = df.select_dtypes(include=[np.number]).columns\n",
    "    df[numeric_columns] = df[numeric_columns].interpolate(method='linear')\n",
    "\n",
    "    # Отбираем данные в диапазоне от common_start_date до common_end_date\n",
    "    # df = df[(df.index >= common_start_date) & (df.index <= common_end_date)]\n",
    "\n",
    "    # Нормализуем цену закрытия\n",
    "    df['Close_Normalized'] = (df['Close'] - df['Close'].mean()) / df['Close'].std()\n",
    "    \n",
    "    # Вычисляем доходность\n",
    "    df['Return'] = df['Close'].pct_change()\n",
    "    \n",
    "    # Вычисляем экспоненциально взвешенное стандартное отклонение доходности (волатильность) с окном в 168 часов\n",
    "    df['Volatility'] = df['Return'].ewm(span=168, adjust=False).std()\n",
    "    \n",
    "    # Нормализуем волатильность\n",
    "    df['Volatility_Normalized'] = df['Volatility'] / df['Volatility'].mean()\n",
    "    \n",
    "    # Вычисляем доходности за периоды 1, 24, 168, 720 часов\n",
    "    periods = [1, 24, 168, 720]\n",
    "    for period in periods:\n",
    "        df[f'Return_{period}h'] = df['Close'].pct_change(periods=period)\n",
    "    \n",
    "    # Нормализуем доходности\n",
    "    # Нормализация: Return_{period}h_normalized = Return_{period}h / (Volatility * sqrt(period))\n",
    "    for period in periods:\n",
    "        # Используем волатильность, смещенную на период назад, чтобы не использовать будущее значение\n",
    "        df[f'Volatility_{period}h'] = df['Volatility'].shift(period)\n",
    "        df[f'Return_{period}h_Normalized'] = df[f'Return_{period}h'] / (df[f'Volatility_{period}h'] * np.sqrt(period))\n",
    "    \n",
    "    macd_indicator = ta.trend.MACD(df['Close'], window_slow=26, window_fast=12, window_sign=9)\n",
    "    df['MACD'] = macd_indicator.macd()  # Линия MACD\n",
    "    df['MACD_Signal'] = macd_indicator.macd_signal()  # Сигнальная линия MACD\n",
    "    df['MACD_Hist'] = macd_indicator.macd_diff()  # Гистограмма MACD\n",
    "\n",
    "    df['RSI'] = ta.momentum.rsi(df['Close'], window=14)\n",
    "\n",
    "    df['Asset_ID_Encoded'] = valid_tokens[token_name]\n",
    "\n",
    "    columns_to_keep = [\n",
    "        # 'Date',\n",
    "        'Close',\n",
    "        'Close_Normalized',\n",
    "        'Return_1h_Normalized',\n",
    "        'Return_24h_Normalized',\n",
    "        'Return_168h_Normalized',\n",
    "        'Return_720h_Normalized',\n",
    "        'Volatility_Normalized',\n",
    "        'MACD',\n",
    "        'MACD_Signal',\n",
    "        'MACD_Hist',\n",
    "        'RSI'\n",
    "    ]\n",
    "\n",
    "    for column in columns_to_keep:\n",
    "        df[column].replace(0, np.nan, inplace=True)\n",
    "        df[column].interpolate(method='linear', inplace=True)\n",
    "        df[column].fillna(method='bfill', inplace=True)\n",
    "        df[column].fillna(method='ffill', inplace=True)\n",
    "\n",
    "    # Оставляем только нужные столбцы\n",
    "    df = df[columns_to_keep + ['Asset_ID_Encoded']]\n",
    "\n",
    "    final_data.append(df)\n",
    "    \n",
    "    # Сохраняем обработанный DataFrame в список\n",
    "    # split_point = int(len(df)*split_cnt)\n",
    "    # train_data.append(df.iloc[:split_point])\n",
    "    # test_data.append(df.iloc[split_point:])"
   ]
  },
  {
   "cell_type": "code",
   "execution_count": 21,
   "metadata": {},
   "outputs": [],
   "source": [
    "final_df = pd.concat(final_data, ignore_index= True)"
   ]
  },
  {
   "cell_type": "code",
   "execution_count": null,
   "metadata": {},
   "outputs": [],
   "source": [
    "final_df.head()"
   ]
  },
  {
   "cell_type": "code",
   "execution_count": null,
   "metadata": {},
   "outputs": [],
   "source": [
    "final_df.describe()"
   ]
  },
  {
   "cell_type": "code",
   "execution_count": null,
   "metadata": {},
   "outputs": [],
   "source": [
    "final_df.info()"
   ]
  },
  {
   "cell_type": "code",
   "execution_count": 25,
   "metadata": {},
   "outputs": [],
   "source": [
    "final_df.to_csv(Path[\"train_data\"](3,2))"
   ]
  },
  {
   "cell_type": "code",
   "execution_count": null,
   "metadata": {},
   "outputs": [],
   "source": [
    "df.columns"
   ]
  },
  {
   "cell_type": "code",
   "execution_count": 27,
   "metadata": {},
   "outputs": [],
   "source": [
    "def create_time_window(data):\n",
    "    max_length = min([len(df) for df in data])\n",
    "    num_iterations = max_length - time_window + 1\n",
    "    sequences = []\n",
    "    # Перебираем все возможные сдвиги\n",
    "    for i in range(num_iterations):\n",
    "        # Список для хранения данных текущей итерации\n",
    "        current_data = []\n",
    "        \n",
    "        # Перебираем каждый токен\n",
    "        for df in data:\n",
    "            # Извлекаем данные с индекса i до i + time_window\n",
    "            window_data = df.iloc[i:i+time_window].copy()\n",
    "            \n",
    "            # Добавляем идентификатор токена, если его нет\n",
    "            if 'Asset_ID_Encoded' not in window_data.columns:\n",
    "                window_data['Asset_ID_Encoded'] = df['Asset_ID_Encoded'].iloc[0]\n",
    "                print(f\"df withoun ID {df['Asset_ID_Encoded'].iloc[0]}\")\n",
    "            \n",
    "            # Добавляем данные в текущий список\n",
    "            current_data.append(window_data)\n",
    "        \n",
    "        # Объединяем данные всех токенов в один DataFrame\n",
    "        iteration_df = pd.concat(current_data, ignore_index=True)\n",
    "        \n",
    "        # Добавляем столбец с меткой времени или индексом итерации\n",
    "        iteration_df['Iteration'] = i\n",
    "        \n",
    "        # Добавляем DataFrame текущей итерации в общий список\n",
    "        sequences.append(iteration_df)\n",
    "        \n",
    "        # (Опционально) Освобождаем память\n",
    "        del iteration_df, current_data, window_data\n",
    "    \n",
    "    return sequences"
   ]
  },
  {
   "cell_type": "code",
   "execution_count": null,
   "metadata": {},
   "outputs": [],
   "source": [
    "train_seq = create_time_window(data = train_data)\n",
    "train_df = pd.concat(train_seq, ignore_index=True)\n",
    "print(len(train_df['Iteration'].unique()))\n",
    "train_df.head()"
   ]
  },
  {
   "cell_type": "code",
   "execution_count": 12,
   "metadata": {},
   "outputs": [],
   "source": [
    "train_df.to_csv(Path[\"train_data\"](2,4))"
   ]
  },
  {
   "cell_type": "code",
   "execution_count": null,
   "metadata": {},
   "outputs": [],
   "source": [
    "test_seq = create_time_window(data = test_data)\n",
    "test_df = pd.concat(test_seq, ignore_index=True)\n",
    "print(len(test_df['Iteration'].unique()))\n",
    "test_df.head()"
   ]
  },
  {
   "cell_type": "code",
   "execution_count": 14,
   "metadata": {},
   "outputs": [],
   "source": [
    "test_df.to_csv(Path[\"test_data\"](2,4))"
   ]
  },
  {
   "cell_type": "code",
   "execution_count": null,
   "metadata": {},
   "outputs": [],
   "source": [
    "iteration_0_df = test_df[test_df['Iteration'] == 10]\n",
    "iteration_0_df"
   ]
  },
  {
   "cell_type": "code",
   "execution_count": 16,
   "metadata": {},
   "outputs": [],
   "source": []
  },
  {
   "cell_type": "code",
   "execution_count": null,
   "metadata": {},
   "outputs": [],
   "source": []
  }
 ],
 "metadata": {
  "kernelspec": {
   "display_name": ".venv",
   "language": "python",
   "name": "python3"
  },
  "language_info": {
   "codemirror_mode": {
    "name": "ipython",
    "version": 3
   },
   "file_extension": ".py",
   "mimetype": "text/x-python",
   "name": "python",
   "nbconvert_exporter": "python",
   "pygments_lexer": "ipython3",
   "version": "3.11.0"
  }
 },
 "nbformat": 4,
 "nbformat_minor": 2
}
